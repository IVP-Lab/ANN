{
 "cells": [
  {
   "cell_type": "markdown",
   "id": "768d516f",
   "metadata": {},
   "source": [
    "<img src=\"./NumPy.jpg\"/>"
   ]
  },
  {
   "cell_type": "markdown",
   "id": "9a9b53c3",
   "metadata": {},
   "source": [
    "<p style=\"font-size: 18px\">In this part, we are going to get familiar with numpy library. We also talk about why do we use this library and it's advantages. Then, we will implement some codes and functionalities.</p>"
   ]
  },
  {
   "cell_type": "markdown",
   "id": "dd9931b1",
   "metadata": {},
   "source": [
    "<h3>Contents:</h3>\n",
    "<ul>\n",
    "    <li><a href='#1'>What is NumPy?</a></li>\n",
    "    <li><a href='#2'>Why it is used?</a></li>\n",
    "    <li><a href='#3'>Installation</a></li>\n",
    "    <li><a href='#4'>Creating Arrays</a></li>\n",
    "    <ul>\n",
    "        <li><a href='#41'>zeros</a></li>\n",
    "        <li><a href='#42'>ones</a></li>\n",
    "        <li><a href='#43'>empty</a></li>\n",
    "        <li><a href='#44'>full</a></li>\n",
    "        <li><a href='#45'>array</a></li>\n",
    "        <li><a href='#46'>arange</a></li>\n",
    "        <li><a href='#47'>linspace</a></li>\n",
    "    </ul>\n",
    "    <li><a href='#5'>Random</a></li>\n",
    "    <li><a href='#6'>Reshape</a></li>\n",
    "    <li><a href='#7'>Arithmetic Functions</a></li>\n",
    "    <li><a href='#8'>Statistical Functions</a></li>\n",
    "    <li><a href='#9'>Universal Functions</a></li>\n",
    "</ul>"
   ]
  },
  {
   "cell_type": "markdown",
   "id": "4280133a",
   "metadata": {},
   "source": [
    "<hr />\n",
    "<h3><div id='1'> What is NumPy? </div></h3>\n",
    "<br /> \n",
    "NumPy is a library for the Python programming language, adding support for large, multi-dimensional arrays and matrices, along with a large collection of high-level mathematical functions to operate on these arrays. (Wikipedia)\n",
    "<br/>\n",
    "Click <a href='https://numpy.org/doc/stable/user/whatisnumpy.html'>here</a> to read more about.\n",
    "\n",
    "<hr />"
   ]
  },
  {
   "cell_type": "markdown",
   "id": "82f51ace",
   "metadata": {},
   "source": [
    "<h3><div id='2'>Why it is used?</div></h3>\n",
    "<br />\n",
    "NumPy can be used to perform a wide variety of mathematical operations on arrays. It adds powerful data structures to Python that guarantee efficient calculations with arrays and matrices and it supplies an enormous library of high-level mathematical functions that operate on these arrays and matrices.\n",
    "<hr /> "
   ]
  },
  {
   "cell_type": "markdown",
   "id": "3dd93c07",
   "metadata": {},
   "source": [
    "<h3>Installation</h3>\n",
    "<br />\n",
    "It is already pre-installed on Anaconda, but you can easily download it with the following command."
   ]
  },
  {
   "cell_type": "code",
   "execution_count": 1,
   "id": "92cb282a",
   "metadata": {},
   "outputs": [],
   "source": [
    "# install numpy using pip\n",
    "# !pip install numpy"
   ]
  },
  {
   "cell_type": "markdown",
   "id": "09f184bd",
   "metadata": {},
   "source": [
    "Importing numpy library:"
   ]
  },
  {
   "cell_type": "code",
   "execution_count": 2,
   "id": "0fc7b4b3",
   "metadata": {},
   "outputs": [],
   "source": [
    "import numpy as np"
   ]
  },
  {
   "cell_type": "markdown",
   "id": "8d146e0b",
   "metadata": {},
   "source": [
    "Find the version: "
   ]
  },
  {
   "cell_type": "code",
   "execution_count": 3,
   "id": "9addbc05",
   "metadata": {},
   "outputs": [
    {
     "data": {
      "text/plain": [
       "'1.21.0'"
      ]
     },
     "execution_count": 3,
     "metadata": {},
     "output_type": "execute_result"
    }
   ],
   "source": [
    "np.__version__"
   ]
  },
  {
   "cell_type": "markdown",
   "id": "e95735c1",
   "metadata": {},
   "source": [
    "<hr />\n",
    "<h3><div id='4'>Creating Arrays</div></h3>"
   ]
  },
  {
   "cell_type": "markdown",
   "id": "1b36ea8c",
   "metadata": {},
   "source": [
    "<div id='41'></div>\n",
    "\n",
    "\n",
    "### `zeros`\n",
    "This function will create zero value array with given dimension input."
   ]
  },
  {
   "cell_type": "code",
   "execution_count": 4,
   "id": "6269ad7f",
   "metadata": {},
   "outputs": [
    {
     "data": {
      "text/plain": [
       "array([0., 0., 0., 0., 0.])"
      ]
     },
     "execution_count": 4,
     "metadata": {},
     "output_type": "execute_result"
    }
   ],
   "source": [
    "np.zeros(5)"
   ]
  },
  {
   "cell_type": "code",
   "execution_count": 5,
   "id": "c260f252",
   "metadata": {},
   "outputs": [
    {
     "data": {
      "text/plain": [
       "array([0, 0, 0, 0, 0], dtype=int64)"
      ]
     },
     "execution_count": 5,
     "metadata": {},
     "output_type": "execute_result"
    }
   ],
   "source": [
    "np.zeros(5, dtype = np.int64 )"
   ]
  },
  {
   "cell_type": "markdown",
   "id": "44f1a513",
   "metadata": {},
   "source": [
    "You can easily create higher dimensional arrays as below."
   ]
  },
  {
   "cell_type": "code",
   "execution_count": 6,
   "id": "832332fa",
   "metadata": {},
   "outputs": [
    {
     "data": {
      "text/plain": [
       "array([[0., 0., 0., 0., 0.],\n",
       "       [0., 0., 0., 0., 0.],\n",
       "       [0., 0., 0., 0., 0.]])"
      ]
     },
     "execution_count": 6,
     "metadata": {},
     "output_type": "execute_result"
    }
   ],
   "source": [
    "# create a 2D array\n",
    "array_2D = np.zeros((3, 5))\n",
    "array_2D"
   ]
  },
  {
   "cell_type": "code",
   "execution_count": 7,
   "id": "4e44a96e",
   "metadata": {},
   "outputs": [
    {
     "data": {
      "text/plain": [
       "array([[[0., 0., 0., 0., 0., 0., 0.],\n",
       "        [0., 0., 0., 0., 0., 0., 0.],\n",
       "        [0., 0., 0., 0., 0., 0., 0.],\n",
       "        [0., 0., 0., 0., 0., 0., 0.]],\n",
       "\n",
       "       [[0., 0., 0., 0., 0., 0., 0.],\n",
       "        [0., 0., 0., 0., 0., 0., 0.],\n",
       "        [0., 0., 0., 0., 0., 0., 0.],\n",
       "        [0., 0., 0., 0., 0., 0., 0.]],\n",
       "\n",
       "       [[0., 0., 0., 0., 0., 0., 0.],\n",
       "        [0., 0., 0., 0., 0., 0., 0.],\n",
       "        [0., 0., 0., 0., 0., 0., 0.],\n",
       "        [0., 0., 0., 0., 0., 0., 0.]]])"
      ]
     },
     "execution_count": 7,
     "metadata": {},
     "output_type": "execute_result"
    }
   ],
   "source": [
    "# create a 3D array\n",
    "array_3d = np.zeros((3, 4, 7))\n",
    "array_3d"
   ]
  },
  {
   "cell_type": "code",
   "execution_count": 8,
   "id": "7f2e3292",
   "metadata": {},
   "outputs": [
    {
     "data": {
      "text/plain": [
       "(3, 4, 7)"
      ]
     },
     "execution_count": 8,
     "metadata": {},
     "output_type": "execute_result"
    }
   ],
   "source": [
    "# get the shape of array \n",
    "array_3d.shape"
   ]
  },
  {
   "cell_type": "code",
   "execution_count": 9,
   "id": "a5f3e1c0",
   "metadata": {},
   "outputs": [
    {
     "data": {
      "text/plain": [
       "3"
      ]
     },
     "execution_count": 9,
     "metadata": {},
     "output_type": "execute_result"
    }
   ],
   "source": [
    "# get the dimension of array\n",
    "array_3d.ndim"
   ]
  },
  {
   "cell_type": "code",
   "execution_count": 10,
   "id": "736e38f2",
   "metadata": {},
   "outputs": [
    {
     "data": {
      "text/plain": [
       "(3, 5)"
      ]
     },
     "execution_count": 10,
     "metadata": {},
     "output_type": "execute_result"
    }
   ],
   "source": [
    "array_2D.shape"
   ]
  },
  {
   "cell_type": "code",
   "execution_count": 11,
   "id": "0ce62a89",
   "metadata": {},
   "outputs": [
    {
     "data": {
      "text/plain": [
       "2"
      ]
     },
     "execution_count": 11,
     "metadata": {},
     "output_type": "execute_result"
    }
   ],
   "source": [
    "array_2D.ndim"
   ]
  },
  {
   "cell_type": "markdown",
   "id": "cb2fab2a",
   "metadata": {},
   "source": [
    "Get the type of arrays."
   ]
  },
  {
   "cell_type": "code",
   "execution_count": 12,
   "id": "5f4e7d31",
   "metadata": {},
   "outputs": [
    {
     "data": {
      "text/plain": [
       "numpy.ndarray"
      ]
     },
     "execution_count": 12,
     "metadata": {},
     "output_type": "execute_result"
    }
   ],
   "source": [
    "type(np.zeros(5))"
   ]
  },
  {
   "cell_type": "markdown",
   "id": "29a08f77",
   "metadata": {},
   "source": [
    "<hr />\n",
    "<div id='42'></div>\n",
    "\n",
    "\n",
    "### `ones`\n",
    "<br /> \n",
    "This function will create an array full of value `one` with the given dimension input."
   ]
  },
  {
   "cell_type": "code",
   "execution_count": 13,
   "id": "980da33a",
   "metadata": {},
   "outputs": [
    {
     "data": {
      "text/plain": [
       "array([[[1., 1., 1.],\n",
       "        [1., 1., 1.],\n",
       "        [1., 1., 1.],\n",
       "        [1., 1., 1.]],\n",
       "\n",
       "       [[1., 1., 1.],\n",
       "        [1., 1., 1.],\n",
       "        [1., 1., 1.],\n",
       "        [1., 1., 1.]],\n",
       "\n",
       "       [[1., 1., 1.],\n",
       "        [1., 1., 1.],\n",
       "        [1., 1., 1.],\n",
       "        [1., 1., 1.]]])"
      ]
     },
     "execution_count": 13,
     "metadata": {},
     "output_type": "execute_result"
    }
   ],
   "source": [
    "np.ones(shape=(3, 4, 3))"
   ]
  },
  {
   "cell_type": "markdown",
   "id": "4205125b",
   "metadata": {},
   "source": [
    "<hr />\n",
    "<div id='43'></div>\n",
    "\n",
    "### `empty`\n",
    "<br />\n",
    "An uninitialized 2x3 array (its content is not predictable, as it is whatever is in memory at that point):"
   ]
  },
  {
   "cell_type": "code",
   "execution_count": 14,
   "id": "33a23460",
   "metadata": {},
   "outputs": [
    {
     "data": {
      "text/plain": [
       "array([[0., 0., 0.],\n",
       "       [0., 0., 0.]])"
      ]
     },
     "execution_count": 14,
     "metadata": {},
     "output_type": "execute_result"
    }
   ],
   "source": [
    "np.empty((2,3))"
   ]
  },
  {
   "cell_type": "markdown",
   "id": "c7985b63",
   "metadata": {},
   "source": [
    "<hr />\n",
    "<div id='44'></div>\n",
    "\n",
    "### `full`\n",
    "<br /> \n",
    "Creates an array of the given shape initialized with the given value."
   ]
  },
  {
   "cell_type": "code",
   "execution_count": 15,
   "id": "e902a433",
   "metadata": {},
   "outputs": [
    {
     "data": {
      "text/plain": [
       "array([[3, 3, 3, 3],\n",
       "       [3, 3, 3, 3],\n",
       "       [3, 3, 3, 3],\n",
       "       [3, 3, 3, 3]])"
      ]
     },
     "execution_count": 15,
     "metadata": {},
     "output_type": "execute_result"
    }
   ],
   "source": [
    "np.full((4, 4), 3)"
   ]
  },
  {
   "cell_type": "code",
   "execution_count": 16,
   "id": "f2cf3be5",
   "metadata": {},
   "outputs": [
    {
     "data": {
      "text/plain": [
       "array([[3.14, 3.14, 3.14, 3.14],\n",
       "       [3.14, 3.14, 3.14, 3.14],\n",
       "       [3.14, 3.14, 3.14, 3.14]])"
      ]
     },
     "execution_count": 16,
     "metadata": {},
     "output_type": "execute_result"
    }
   ],
   "source": [
    "np.full((3,4), 3.14)"
   ]
  },
  {
   "cell_type": "markdown",
   "id": "6d741fc6",
   "metadata": {},
   "source": [
    "<hr />\n",
    "<div id='45'></div>\n",
    "\n",
    "### `array`\n",
    "<br /> \n",
    "Converting a python regular array to the numpy array."
   ]
  },
  {
   "cell_type": "code",
   "execution_count": 17,
   "id": "31a43b5d",
   "metadata": {},
   "outputs": [
    {
     "data": {
      "text/plain": [
       "array([[1, 2, 3],\n",
       "       [4, 5, 6]])"
      ]
     },
     "execution_count": 17,
     "metadata": {},
     "output_type": "execute_result"
    }
   ],
   "source": [
    "np.array([[1, 2, 3], [4, 5, 6]])"
   ]
  },
  {
   "cell_type": "markdown",
   "id": "5b7a7f65",
   "metadata": {},
   "source": [
    "<hr />\n",
    "<div id='46'></div>\n",
    "\n",
    "### `arange`\n",
    "Values are generated within the half-open interval [start, stop) (in other words, the interval including start but excluding stop). For integer arguments the function is equivalent to the Python built-in range function, but returns an ndarray rather than a list.\n",
    "\n",
    "`ref`: https://numpy.org/doc/stable/reference/generated/numpy.arange.html"
   ]
  },
  {
   "cell_type": "code",
   "execution_count": 18,
   "id": "a1b56d9a",
   "metadata": {},
   "outputs": [
    {
     "data": {
      "text/plain": [
       "array([0. , 0.1, 0.2, 0.3, 0.4, 0.5, 0.6, 0.7, 0.8, 0.9, 1. , 1.1, 1.2,\n",
       "       1.3, 1.4, 1.5, 1.6, 1.7, 1.8, 1.9])"
      ]
     },
     "execution_count": 18,
     "metadata": {},
     "output_type": "execute_result"
    }
   ],
   "source": [
    "np.arange(0, 2, 0.1)"
   ]
  },
  {
   "cell_type": "markdown",
   "id": "26d16b95",
   "metadata": {},
   "source": [
    "<hr />\n",
    "<div id='47'></div>\n",
    "\n",
    "### `linspace`\n",
    "Return evenly spaced numbers over a specified interval."
   ]
  },
  {
   "cell_type": "code",
   "execution_count": 19,
   "id": "e091907e",
   "metadata": {},
   "outputs": [
    {
     "data": {
      "text/plain": [
       "array([0.        , 0.22222222, 0.44444444, 0.66666667, 0.88888889,\n",
       "       1.11111111, 1.33333333, 1.55555556, 1.77777778, 2.        ])"
      ]
     },
     "execution_count": 19,
     "metadata": {},
     "output_type": "execute_result"
    }
   ],
   "source": [
    "np.linspace(0, 2, 10)"
   ]
  },
  {
   "cell_type": "markdown",
   "id": "0611a1c9",
   "metadata": {},
   "source": [
    "<hr /> \n",
    "<div id='5'></div>\n",
    "\n",
    "## Random"
   ]
  },
  {
   "cell_type": "markdown",
   "id": "c491521c",
   "metadata": {},
   "source": [
    "### `random.rand` and `random.randn`"
   ]
  },
  {
   "cell_type": "code",
   "execution_count": 20,
   "id": "94d8f7bb",
   "metadata": {},
   "outputs": [
    {
     "data": {
      "image/png": "[encoded data removed]",
      "text/plain": [
       "<Figure size 432x288 with 1 Axes>"
      ]
     },
     "metadata": {
      "needs_background": "light"
     },
     "output_type": "display_data"
    }
   ],
   "source": [
    "%matplotlib inline\n",
    "import matplotlib.pyplot as plt\n",
    "\n",
    "plt.hist(np.random.rand(100000),density = True, bins=100, histtype=\"step\", color=\"blue\", label=\"rand\")\n",
    "plt.hist(np.random.randn(100000),density = True, bins=100, histtype=\"step\", color=\"red\", label=\"randn\")\n",
    "plt.axis([-2.5, 2.5, 0, 1.1])\n",
    "plt.legend(loc = \"upper right\")\n",
    "plt.title(\"Random distributions\")\n",
    "plt.xlabel(\"Value\")\n",
    "plt.ylabel(\"Density\")\n",
    "plt.show()"
   ]
  },
  {
   "cell_type": "markdown",
   "id": "7470a0a2",
   "metadata": {},
   "source": [
    "<hr /> \n",
    "<div id='6'></div>\n",
    "\n",
    "## Reshape"
   ]
  },
  {
   "cell_type": "markdown",
   "id": "2804f6ed",
   "metadata": {},
   "source": [
    "### `inline reshape`"
   ]
  },
  {
   "cell_type": "code",
   "execution_count": 21,
   "id": "4e9e87ab",
   "metadata": {},
   "outputs": [
    {
     "data": {
      "text/plain": [
       "array([ 0,  1,  2,  3,  4,  5,  6,  7,  8,  9, 10, 11, 12, 13, 14, 15, 16,\n",
       "       17, 18, 19, 20, 21, 22, 23])"
      ]
     },
     "execution_count": 21,
     "metadata": {},
     "output_type": "execute_result"
    }
   ],
   "source": [
    "arr = np.arange(24)\n",
    "arr"
   ]
  },
  {
   "cell_type": "code",
   "execution_count": 22,
   "id": "a63cc872",
   "metadata": {},
   "outputs": [
    {
     "data": {
      "text/plain": [
       "array([[[ 0,  1,  2,  3],\n",
       "        [ 4,  5,  6,  7],\n",
       "        [ 8,  9, 10, 11]],\n",
       "\n",
       "       [[12, 13, 14, 15],\n",
       "        [16, 17, 18, 19],\n",
       "        [20, 21, 22, 23]]])"
      ]
     },
     "execution_count": 22,
     "metadata": {},
     "output_type": "execute_result"
    }
   ],
   "source": [
    "arr.shape = (2, 3, 4)\n",
    "arr"
   ]
  },
  {
   "cell_type": "markdown",
   "id": "53c3f03f",
   "metadata": {},
   "source": [
    "### `reshape function `"
   ]
  },
  {
   "cell_type": "code",
   "execution_count": 23,
   "id": "d7da7909",
   "metadata": {},
   "outputs": [
    {
     "data": {
      "text/plain": [
       "array([[ 0,  1,  2,  3],\n",
       "       [ 4,  5,  6,  7],\n",
       "       [ 8,  9, 10, 11],\n",
       "       [12, 13, 14, 15],\n",
       "       [16, 17, 18, 19],\n",
       "       [20, 21, 22, 23]])"
      ]
     },
     "execution_count": 23,
     "metadata": {},
     "output_type": "execute_result"
    }
   ],
   "source": [
    "arr.reshape((6, 4))"
   ]
  },
  {
   "cell_type": "markdown",
   "id": "3089016f",
   "metadata": {},
   "source": [
    "### `ravel`"
   ]
  },
  {
   "cell_type": "code",
   "execution_count": 24,
   "id": "cd39f89f",
   "metadata": {},
   "outputs": [
    {
     "data": {
      "text/plain": [
       "array([ 0,  1,  2,  3,  4,  5,  6,  7,  8,  9, 10, 11, 12, 13, 14, 15, 16,\n",
       "       17, 18, 19, 20, 21, 22, 23])"
      ]
     },
     "execution_count": 24,
     "metadata": {},
     "output_type": "execute_result"
    }
   ],
   "source": [
    "arr.ravel()"
   ]
  },
  {
   "cell_type": "markdown",
   "id": "de34a79e",
   "metadata": {},
   "source": [
    "<div id='7'></div>\n",
    "\n",
    "## Arithmetic Operation"
   ]
  },
  {
   "cell_type": "code",
   "execution_count": 25,
   "id": "4d1d3a7c",
   "metadata": {},
   "outputs": [
    {
     "name": "stdout",
     "output_type": "stream",
     "text": [
      "a + b  = [ 5 19 27 35 43]\n",
      "a - b  = [-1  9 19 29 39]\n",
      "a * b  = [ 6 70 92 96 82]\n",
      "a / b  = [ 0.66666667  2.8         5.75       10.66666667 20.5       ]\n",
      "a // b  = [ 0  2  5 10 20]\n",
      "a % b  = [2 4 3 2 1]\n",
      "a ** b = [     8 537824 279841  32768   1681]\n"
     ]
    }
   ],
   "source": [
    "arr1 = np.array([2, 14, 23, 32, 41])\n",
    "arr2 = np.array([3, 5,  4,  3,  2])\n",
    "print(\"a + b  =\", arr1 + arr2)\n",
    "print(\"a - b  =\", arr1 - arr2)\n",
    "print(\"a * b  =\", arr1 * arr2)\n",
    "print(\"a / b  =\", arr1 / arr2)\n",
    "print(\"a // b  =\", arr1 // arr2)\n",
    "print(\"a % b  =\", arr1 % arr2)\n",
    "print(\"a ** b =\", arr1 ** arr2)"
   ]
  },
  {
   "cell_type": "markdown",
   "id": "d1f9da2a",
   "metadata": {},
   "source": [
    "<div id='8' />\n",
    "\n",
    "## Statistical Functions"
   ]
  },
  {
   "cell_type": "code",
   "execution_count": 26,
   "id": "d93ea094",
   "metadata": {},
   "outputs": [
    {
     "name": "stdout",
     "output_type": "stream",
     "text": [
      "mean: 3.0\n",
      "min: 1\n",
      "max: 5\n",
      "prod: 120\n",
      "std: 1.4142135623730951\n",
      "var: 2.0\n"
     ]
    }
   ],
   "source": [
    "arr = np.array([1, 2, 3, 4, 5])\n",
    "\n",
    "print('mean:', arr.mean())\n",
    "print('min:', arr.min())\n",
    "print('max:', arr.max())\n",
    "print('prod:', arr.prod())\n",
    "print('std:', arr.std())\n",
    "print('var:', arr.var())"
   ]
  },
  {
   "cell_type": "markdown",
   "id": "dde6e4d7",
   "metadata": {},
   "source": [
    "<div id='9' />\n",
    "\n",
    "## Universal Functions"
   ]
  },
  {
   "cell_type": "code",
   "execution_count": 27,
   "id": "b8e45274",
   "metadata": {},
   "outputs": [
    {
     "name": "stdout",
     "output_type": "stream",
     "text": [
      "square: [ 1  4  9 16 25]\n",
      "sqrt: [1.         1.41421356 1.73205081 2.         2.23606798]\n",
      "exp: [  2.71828183   7.3890561   20.08553692  54.59815003 148.4131591 ]\n",
      "log: [0.         0.69314718 1.09861229 1.38629436 1.60943791]\n",
      "sign: [1 1 1 1 1]\n",
      "cos: [ 0.54030231 -0.41614684 -0.9899925  -0.65364362  0.28366219]\n"
     ]
    }
   ],
   "source": [
    "arr = np.array([1, 2, 3, 4, 5])\n",
    "print('square:', np.square(arr))\n",
    "print('sqrt:', np.sqrt(arr))\n",
    "print('exp:', np.exp(arr))\n",
    "print('log:', np.log(arr))\n",
    "print('sign:', np.sign(arr))\n",
    "print('cos:', np.cos(arr))"
   ]
  },
  {
   "cell_type": "markdown",
   "id": "7c817fdf",
   "metadata": {},
   "source": [
    "<hr />\n",
    "\n",
    "### About the author\n",
    "\n",
    "`Name`: Erfan Asadi\n",
    "<br />\n",
    "`Email`: erfanasadi.ce@gmail.com\n",
    "<br />\n",
    "`Linkedin`: https://www.linkedin.com/in/erfan-asadi-9b64b9163/\n",
    "<br />\n",
    "`GitHub`: https://github.com/ErfanAsadi\n",
    "<br />\n",
    "<hr />\n"
   ]
  },
  {
   "cell_type": "code",
   "execution_count": null,
   "id": "512ab7b6",
   "metadata": {},
   "outputs": [],
   "source": []
  }
 ],
 "metadata": {
  "kernelspec": {
   "display_name": "Python 3",
   "language": "python",
   "name": "python3"
  },
  "language_info": {
   "codemirror_mode": {
    "name": "ipython",
    "version": 3
   },
   "file_extension": ".py",
   "mimetype": "text/x-python",
   "name": "python",
   "nbconvert_exporter": "python",
   "pygments_lexer": "ipython3",
   "version": "3.8.2"
  }
 },
 "nbformat": 4,
 "nbformat_minor": 5
}
