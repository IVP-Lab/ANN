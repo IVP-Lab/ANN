{
 "cells": [
  {
   "cell_type": "markdown",
   "id": "2e5d0d28",
   "metadata": {},
   "source": [
    "<img src=\"./Python.jpg\"/>"
   ]
  },
  {
   "cell_type": "markdown",
   "id": "e140e48b",
   "metadata": {},
   "source": [
    "<p style=\"font-size: 16px\">In this section, we are going to help you to get familiar with <b>python</b>. <br /> \n",
    "We will see some code snippets to percept the concepts better.</p>"
   ]
  },
  {
   "cell_type": "markdown",
   "id": "9e680e6c",
   "metadata": {},
   "source": [
    "<hr />\n",
    "<h3><div id='1'> What is Python? </div></h3>\n",
    "<br /> \n",
    "Python is an interpreted high-level general-purpose programming language. Its design philosophy emphasizes code readability with its use of significant indentation. Its language constructs as well as its object-oriented approach aim to help programmers write clear, logical code for small and large-scale projects. (Wikipedia)\n",
    "<br/>\n",
    "Click <a href='https://www.python.org/'>here</a> to read more about.\n",
    "\n",
    "<hr />"
   ]
  },
  {
   "cell_type": "markdown",
   "id": "2f5b9589",
   "metadata": {},
   "source": [
    "<h3><div id='2'>AI and Python: Why?</div></h3>\n",
    "<br />\n",
    "Python offers the least code among others and is in fact 1/5 the number compared to other OOP languages. No wonder it is one of the most popular in the market today.\n",
    "\n",
    "Python has Prebuilt Libraries like Numpy for scientific computation, Scipy for advanced computing and Pybrain for machine learning (Python Machine Learning) making it one of the best languages For AI.\n",
    "Python developers around the world provide comprehensive support and assistance via forums and tutorials making the job of the coder easier than any other popular languages.\n",
    "Python is platform Independent and is hence one of the most flexible and popular choices for use across different platforms and technologies with the least tweaks in basic coding.\n",
    "Python is the most flexible of all others with options to choose between OOPs approach and scripting. You can also use IDE itself to check for most codes and is a boon for developers struggling with different algorithms.\n",
    "\n",
    "Click <a href=\"https://www.cuelogic.com/blog/role-of-python-in-artificial-intelligence\">here</a> to read more about this topic. \n",
    "<hr /> "
   ]
  },
  {
   "cell_type": "markdown",
   "id": "6624c1c3",
   "metadata": {},
   "source": [
    "<div id='3'><h3>Installation</h3></div>\n",
    "<br />\n",
    "Click <a href='https://medium.com/co-learning-lounge/how-to-download-install-python-on-windows-2021-44a707994013'>here</a> to see the complete installation guide."
   ]
  },
  {
   "cell_type": "markdown",
   "id": "29776b81",
   "metadata": {},
   "source": [
    "<div id='4'><h3>Variable & Data Types</h3></div>"
   ]
  },
  {
   "cell_type": "code",
   "execution_count": 4,
   "id": "60b83d11",
   "metadata": {},
   "outputs": [],
   "source": [
    "# ! string a = 2 / int b = 3 / float t = 2.3 \n",
    "# ! const a = 3 / var b = 4\n",
    "num = 2\n",
    "text = 'Hello, ANN students'"
   ]
  },
  {
   "cell_type": "markdown",
   "id": "ded91a9f",
   "metadata": {},
   "source": [
    "<div id='41'><h4>Numbers</h4></div>"
   ]
  },
  {
   "cell_type": "code",
   "execution_count": 11,
   "id": "85ba82bb",
   "metadata": {},
   "outputs": [
    {
     "name": "stdout",
     "output_type": "stream",
     "text": [
      "x:  2 <class 'int'>\n",
      "y:  1443 <class 'int'>\n",
      "z:  -4 <class 'int'>\n",
      "f:  0.032 <class 'float'>\n"
     ]
    }
   ],
   "source": [
    "x = 2\n",
    "y = 1443\n",
    "z = -4\n",
    "f = 0.032\n",
    "\n",
    "print('x: ', x, type(x))\n",
    "print('y: ', y, type(y))\n",
    "print('z: ', z, type(z))\n",
    "print('f: ', f, type(f))"
   ]
  },
  {
   "cell_type": "markdown",
   "id": "01933c4f",
   "metadata": {},
   "source": [
    "<div id='42'><h4>Boolean</h4></div>"
   ]
  },
  {
   "cell_type": "code",
   "execution_count": 12,
   "id": "70b37e93",
   "metadata": {},
   "outputs": [],
   "source": [
    "t_bool = True \n",
    "f_bool = False"
   ]
  },
  {
   "cell_type": "code",
   "execution_count": 17,
   "id": "a0a1cabd",
   "metadata": {},
   "outputs": [
    {
     "name": "stdout",
     "output_type": "stream",
     "text": [
      "t_bool: True <class 'bool'>\n",
      "f_bool: False <class 'bool'>\n"
     ]
    }
   ],
   "source": [
    "print('t_bool:', t_bool, type(t_bool))\n",
    "print('f_bool:', f_bool, type(f_bool))"
   ]
  },
  {
   "cell_type": "markdown",
   "id": "81774248",
   "metadata": {},
   "source": [
    "<div id='43'><h4>Strings</h4></div>"
   ]
  },
  {
   "cell_type": "code",
   "execution_count": 15,
   "id": "b49d578a",
   "metadata": {},
   "outputs": [],
   "source": [
    "text = \"Hello, This is your first text in python.\""
   ]
  },
  {
   "cell_type": "code",
   "execution_count": 16,
   "id": "06c86764",
   "metadata": {},
   "outputs": [
    {
     "name": "stdout",
     "output_type": "stream",
     "text": [
      "text Hello, This is your first text in python <class 'str'>\n"
     ]
    }
   ],
   "source": [
    "print('text: ', text, type(text))"
   ]
  },
  {
   "cell_type": "markdown",
   "id": "dfb7db7d",
   "metadata": {},
   "source": [
    "<h4>Type Casting</h4>"
   ]
  },
  {
   "cell_type": "code",
   "execution_count": 3,
   "id": "af5210c3",
   "metadata": {},
   "outputs": [
    {
     "name": "stdout",
     "output_type": "stream",
     "text": [
      "2\n",
      "<class 'str'>\n"
     ]
    }
   ],
   "source": [
    "a = '2'\n",
    "print(a)\n",
    "print(type(a))"
   ]
  },
  {
   "cell_type": "code",
   "execution_count": 8,
   "id": "520f977a",
   "metadata": {},
   "outputs": [
    {
     "name": "stdout",
     "output_type": "stream",
     "text": [
      "2\n"
     ]
    }
   ],
   "source": [
    "b = int(a)\n",
    "print(b)"
   ]
  },
  {
   "cell_type": "markdown",
   "id": "3c0c7b25",
   "metadata": {},
   "source": [
    "<div id='5'><h3>Operators</h3></div>"
   ]
  },
  {
   "cell_type": "markdown",
   "id": "c23bca93",
   "metadata": {},
   "source": [
    "<div id='51'><h4>Arithmetic Operators</h4></div>"
   ]
  },
  {
   "cell_type": "code",
   "execution_count": 9,
   "id": "41b80d06",
   "metadata": {},
   "outputs": [],
   "source": [
    "x = 69\n",
    "y = 3"
   ]
  },
  {
   "cell_type": "code",
   "execution_count": 10,
   "id": "80070920",
   "metadata": {},
   "outputs": [
    {
     "name": "stdout",
     "output_type": "stream",
     "text": [
      "Addition: x + y = 72\n",
      "Sunstraction: x - y = 66\n",
      "Multiplication: x * y = 207\n",
      "Division: x / y = 23.0\n",
      "Modulus: x % y = 0\n",
      "Exponentiation: x ** y = 328509\n",
      "Floor Division: x // y = 23\n"
     ]
    }
   ],
   "source": [
    "print('Addition: x + y =', x + y)\n",
    "print('Sunstraction: x - y =', x - y)\n",
    "print('Multiplication: x * y =', x * y)\n",
    "print('Division: x / y =', x / y)\n",
    "print('Modulus: x % y =', x % y)\n",
    "print('Exponentiation: x ** y =', x ** y)\n",
    "print('Floor Division: x // y =', x // y)"
   ]
  },
  {
   "cell_type": "markdown",
   "id": "f09cdc25",
   "metadata": {},
   "source": [
    "<div id='52'><h4>Assignment Operators</h4></div>"
   ]
  },
  {
   "cell_type": "code",
   "execution_count": 40,
   "id": "7f55b9e5",
   "metadata": {},
   "outputs": [],
   "source": [
    "x = 9\n",
    "x += 5 # x = x + 5\n",
    "x -= 2\n",
    "x *= 4\n",
    "x /= 2\n",
    "x %= 100\n",
    "x //= 7\n",
    "x **= 2"
   ]
  },
  {
   "cell_type": "markdown",
   "id": "1db838fc",
   "metadata": {},
   "source": [
    "<div id='53'><h4>Bitwise Assignment Operators</h4></div>"
   ]
  },
  {
   "cell_type": "code",
   "execution_count": 11,
   "id": "a82a74db",
   "metadata": {},
   "outputs": [
    {
     "data": {
      "text/plain": [
       "1"
      ]
     },
     "execution_count": 11,
     "metadata": {},
     "output_type": "execute_result"
    }
   ],
   "source": [
    "5 & 3"
   ]
  },
  {
   "cell_type": "code",
   "execution_count": 47,
   "id": "3d03f541",
   "metadata": {},
   "outputs": [
    {
     "data": {
      "text/plain": [
       "1"
      ]
     },
     "execution_count": 47,
     "metadata": {},
     "output_type": "execute_result"
    }
   ],
   "source": [
    "x = 5\n",
    "x &= 3 # Bitwise and\n",
    "x"
   ]
  },
  {
   "cell_type": "code",
   "execution_count": 46,
   "id": "45311af8",
   "metadata": {},
   "outputs": [
    {
     "data": {
      "text/plain": [
       "7"
      ]
     },
     "execution_count": 46,
     "metadata": {},
     "output_type": "execute_result"
    }
   ],
   "source": [
    "x = 5\n",
    "x |= 3 # Bitwise or\n",
    "x"
   ]
  },
  {
   "cell_type": "code",
   "execution_count": 45,
   "id": "0519cace",
   "metadata": {},
   "outputs": [
    {
     "data": {
      "text/plain": [
       "6"
      ]
     },
     "execution_count": 45,
     "metadata": {},
     "output_type": "execute_result"
    }
   ],
   "source": [
    "x = 5\n",
    "x ^= 3 # Bitwise xor\n",
    "x"
   ]
  },
  {
   "cell_type": "code",
   "execution_count": 14,
   "id": "a2c4f70d",
   "metadata": {},
   "outputs": [
    {
     "data": {
      "text/plain": [
       "2"
      ]
     },
     "execution_count": 14,
     "metadata": {},
     "output_type": "execute_result"
    }
   ],
   "source": [
    "x = 5\n",
    "x >>= 1 # Shift to right\n",
    "x"
   ]
  },
  {
   "cell_type": "code",
   "execution_count": 43,
   "id": "66e68ad1",
   "metadata": {},
   "outputs": [
    {
     "data": {
      "text/plain": [
       "40"
      ]
     },
     "execution_count": 43,
     "metadata": {},
     "output_type": "execute_result"
    }
   ],
   "source": [
    "x = 5\n",
    "x <<= 3 # Shift to right\n",
    "x"
   ]
  },
  {
   "cell_type": "markdown",
   "id": "d7addbb3",
   "metadata": {},
   "source": [
    "<div id='54'><h4>Comparison Operators</h4></div>"
   ]
  },
  {
   "cell_type": "code",
   "execution_count": 15,
   "id": "9debfa4a",
   "metadata": {},
   "outputs": [],
   "source": [
    "x = 5\n",
    "y = 6\n",
    "z = 2"
   ]
  },
  {
   "cell_type": "code",
   "execution_count": 50,
   "id": "9cce4325",
   "metadata": {},
   "outputs": [
    {
     "data": {
      "text/plain": [
       "True"
      ]
     },
     "execution_count": 50,
     "metadata": {},
     "output_type": "execute_result"
    }
   ],
   "source": [
    "x == x"
   ]
  },
  {
   "cell_type": "code",
   "execution_count": 51,
   "id": "d07459f9",
   "metadata": {},
   "outputs": [
    {
     "data": {
      "text/plain": [
       "True"
      ]
     },
     "execution_count": 51,
     "metadata": {},
     "output_type": "execute_result"
    }
   ],
   "source": [
    "x > y "
   ]
  },
  {
   "cell_type": "code",
   "execution_count": 16,
   "id": "0b9a76df",
   "metadata": {},
   "outputs": [
    {
     "data": {
      "text/plain": [
       "False"
      ]
     },
     "execution_count": 16,
     "metadata": {},
     "output_type": "execute_result"
    }
   ],
   "source": [
    "z < y < x # z < y and y < x"
   ]
  },
  {
   "cell_type": "code",
   "execution_count": 53,
   "id": "92cdc175",
   "metadata": {},
   "outputs": [
    {
     "data": {
      "text/plain": [
       "True"
      ]
     },
     "execution_count": 53,
     "metadata": {},
     "output_type": "execute_result"
    }
   ],
   "source": [
    "z <= z"
   ]
  },
  {
   "cell_type": "markdown",
   "id": "608c78d1",
   "metadata": {},
   "source": [
    "<div id='55'><h4>Logical Operators</h4></div>"
   ]
  },
  {
   "cell_type": "code",
   "execution_count": 57,
   "id": "de19d20f",
   "metadata": {},
   "outputs": [],
   "source": [
    "a = True\n",
    "b = False "
   ]
  },
  {
   "cell_type": "code",
   "execution_count": 58,
   "id": "1cb903d6",
   "metadata": {},
   "outputs": [
    {
     "data": {
      "text/plain": [
       "False"
      ]
     },
     "execution_count": 58,
     "metadata": {},
     "output_type": "execute_result"
    }
   ],
   "source": [
    "a and b"
   ]
  },
  {
   "cell_type": "code",
   "execution_count": 59,
   "id": "df3e1ca2",
   "metadata": {},
   "outputs": [
    {
     "data": {
      "text/plain": [
       "True"
      ]
     },
     "execution_count": 59,
     "metadata": {},
     "output_type": "execute_result"
    }
   ],
   "source": [
    "a or b"
   ]
  },
  {
   "cell_type": "code",
   "execution_count": 19,
   "id": "03a80090",
   "metadata": {},
   "outputs": [
    {
     "data": {
      "text/plain": [
       "False"
      ]
     },
     "execution_count": 19,
     "metadata": {},
     "output_type": "execute_result"
    }
   ],
   "source": [
    "not a"
   ]
  },
  {
   "cell_type": "markdown",
   "id": "b01fdbe7",
   "metadata": {},
   "source": [
    "<div id='6'><h3>Conditional Statements</h3></div>\n"
   ]
  },
  {
   "cell_type": "code",
   "execution_count": 45,
   "id": "ef1c30cf",
   "metadata": {},
   "outputs": [
    {
     "name": "stdout",
     "output_type": "stream",
     "text": [
      "Hello everybody!\n"
     ]
    }
   ],
   "source": [
    "if True: \n",
    "    print('Hello everybody!')"
   ]
  },
  {
   "cell_type": "code",
   "execution_count": 56,
   "id": "b053651b",
   "metadata": {},
   "outputs": [
    {
     "name": "stdout",
     "output_type": "stream",
     "text": [
      "Hello again!\n"
     ]
    }
   ],
   "source": [
    "if True: print('Hello again!')"
   ]
  },
  {
   "cell_type": "code",
   "execution_count": 20,
   "id": "17a69647",
   "metadata": {},
   "outputs": [
    {
     "name": "stdout",
     "output_type": "stream",
     "text": [
      "Hey, there!\n"
     ]
    }
   ],
   "source": [
    "if False:\n",
    "    print('Bye!')\n",
    "    \n",
    "print('Hey, there!')"
   ]
  },
  {
   "cell_type": "code",
   "execution_count": null,
   "id": "a930a8a7",
   "metadata": {},
   "outputs": [],
   "source": [
    "print"
   ]
  },
  {
   "cell_type": "code",
   "execution_count": 23,
   "id": "7c13c29a",
   "metadata": {},
   "outputs": [],
   "source": [
    "number_of_chairs = 110\n",
    "number_of_students = 115"
   ]
  },
  {
   "cell_type": "code",
   "execution_count": 24,
   "id": "c1c397ed",
   "metadata": {},
   "outputs": [
    {
     "name": "stdout",
     "output_type": "stream",
     "text": [
      "You must pruchase 5 chairs for students\n"
     ]
    }
   ],
   "source": [
    "if number_of_chairs >= number_of_students: \n",
    "    print('No need to buy chair for students.')\n",
    "else:\n",
    "    print('You must pruchase {} chairs for students'.format(number_of_students - number_of_chairs))"
   ]
  },
  {
   "cell_type": "code",
   "execution_count": 67,
   "id": "e9a02e75",
   "metadata": {
    "scrolled": true
   },
   "outputs": [
    {
     "name": "stdout",
     "output_type": "stream",
     "text": [
      "You can add 10 students to your class.\n"
     ]
    }
   ],
   "source": [
    "if number_of_chairs == number_of_students: \n",
    "    print('No need to buy chair for students.')\n",
    "elif number_of_chairs > number_of_students:\n",
    "    print('You can add {} students to your class.'.format(number_of_chairs - number_of_students))\n",
    "else:\n",
    "    print('You must pruchase {} chairs for students'.format(number_of_students - number_of_chairs))"
   ]
  },
  {
   "cell_type": "markdown",
   "id": "d1e65903",
   "metadata": {},
   "source": [
    "<div id='55'><h4>Inline Conditions:</h4></div>"
   ]
  },
  {
   "cell_type": "code",
   "execution_count": 61,
   "id": "39b8c3b9",
   "metadata": {},
   "outputs": [
    {
     "data": {
      "text/plain": [
       "'Hot'"
      ]
     },
     "execution_count": 61,
     "metadata": {},
     "output_type": "execute_result"
    }
   ],
   "source": [
    "weather_temprature = 30 \n",
    "\n",
    "# if weather_temprature < 10:\n",
    "#    feel = 'Cold'\n",
    "#else:\n",
    "#    feel = 'Hot'\n",
    "\n",
    "feel = 'Cold' if weather_temprature < 10 else 'Hot'\n",
    "feel"
   ]
  },
  {
   "cell_type": "markdown",
   "id": "b655cc2c",
   "metadata": {},
   "source": [
    "<div id='6'><h3>Data Containers</h3></div>\n",
    "<br /> \n",
    "Python include several built-in containers such as lists, dictionaries, sets and tuples."
   ]
  },
  {
   "cell_type": "markdown",
   "id": "ed4548a7",
   "metadata": {},
   "source": [
    "<div id='61'><h4>Lists</h4></div>"
   ]
  },
  {
   "cell_type": "code",
   "execution_count": 27,
   "id": "7a5fe603",
   "metadata": {},
   "outputs": [
    {
     "name": "stdout",
     "output_type": "stream",
     "text": [
      "python_list:  [1, 2, 3, 4, 5, 6]\n",
      "third element of python_list:  3\n",
      "last element of python_list:  6\n",
      "last element of python_list:  6\n",
      "len: 6\n"
     ]
    }
   ],
   "source": [
    "python_list = [1, 2, 3, 4, 5, 6]\n",
    "\n",
    "print('python_list: ', python_list)\n",
    "print('third element of python_list: ', python_list[2])\n",
    "print('last element of python_list: ', python_list[len(python_list) - 1])\n",
    "print('last element of python_list: ', python_list[-1])\n",
    "print('len:', len(python_list))"
   ]
  },
  {
   "cell_type": "code",
   "execution_count": 137,
   "id": "1b7a93fe",
   "metadata": {},
   "outputs": [
    {
     "data": {
      "text/plain": [
       "6"
      ]
     },
     "execution_count": 137,
     "metadata": {},
     "output_type": "execute_result"
    }
   ],
   "source": [
    "len(python_list)"
   ]
  },
  {
   "cell_type": "code",
   "execution_count": 14,
   "id": "0cd6fb68",
   "metadata": {},
   "outputs": [
    {
     "name": "stdout",
     "output_type": "stream",
     "text": [
      "python_list:  [1, 2, 'foo', 4, 5, 6]\n"
     ]
    }
   ],
   "source": [
    "python_list[2] = 'foo'\n",
    "print('python_list: ', python_list)"
   ]
  },
  {
   "cell_type": "code",
   "execution_count": 15,
   "id": "d9d1067a",
   "metadata": {},
   "outputs": [
    {
     "name": "stdout",
     "output_type": "stream",
     "text": [
      "python_list:  [1, 2, 'foo', 4, 5, 6, 'last_item']\n"
     ]
    }
   ],
   "source": [
    "python_list.append('last_item')\n",
    "print('python_list: ', python_list)"
   ]
  },
  {
   "cell_type": "code",
   "execution_count": 16,
   "id": "cb92b969",
   "metadata": {},
   "outputs": [
    {
     "name": "stdout",
     "output_type": "stream",
     "text": [
      "python_list:  [1, 2, 'foo', 4, 5, 6]\n"
     ]
    }
   ],
   "source": [
    "python_list.pop()\n",
    "print('python_list: ', python_list)"
   ]
  },
  {
   "cell_type": "markdown",
   "id": "aa87ebfb",
   "metadata": {},
   "source": [
    "<div id='61'><h4>Slicing</h4></div>"
   ]
  },
  {
   "cell_type": "code",
   "execution_count": 28,
   "id": "1d161403",
   "metadata": {},
   "outputs": [
    {
     "name": "stdout",
     "output_type": "stream",
     "text": [
      "nums: [0, 1, 2, 3, 4]\n",
      "nums: [2, 3]\n",
      "nums: [2, 3, 4]\n",
      "nums: [0, 1, 2, 3]\n",
      "nums: [0, 1, 8, 9, 4]\n"
     ]
    }
   ],
   "source": [
    "nums = list(range(5))    \n",
    "print('nums:', nums)         \n",
    "print('nums:', nums[2:4])\n",
    "print('nums:', nums[2:])    \n",
    "print('nums:', nums[:-1])   \n",
    "nums[2:4] = [8, 9]           \n",
    "print ('nums:', nums)         "
   ]
  },
  {
   "cell_type": "markdown",
   "id": "06a31715",
   "metadata": {},
   "source": [
    "<div id='61'><h4>Loops on arrays:</h4></div>"
   ]
  },
  {
   "cell_type": "code",
   "execution_count": 40,
   "id": "bfc8171b",
   "metadata": {},
   "outputs": [],
   "source": [
    "animals = ['cat', 'dog', 'monkey']\n",
    "sizes = ['small', 'medium', 'medium']"
   ]
  },
  {
   "cell_type": "code",
   "execution_count": 31,
   "id": "6572c151",
   "metadata": {},
   "outputs": [
    {
     "name": "stdout",
     "output_type": "stream",
     "text": [
      "Animals -------------\n",
      "cat\n",
      "dog\n",
      "monkey\n",
      "\n",
      "Sizes -------------\n",
      "small\n",
      "medium\n",
      "medium\n"
     ]
    }
   ],
   "source": [
    "print('Animals -------------')\n",
    "for animal in animals:\n",
    "    print(animal)\n",
    "print('\\nSizes -------------')\n",
    "for size in sizes:\n",
    "    print(size)"
   ]
  },
  {
   "cell_type": "code",
   "execution_count": 32,
   "id": "388c76f2",
   "metadata": {},
   "outputs": [
    {
     "name": "stdout",
     "output_type": "stream",
     "text": [
      "0 - cat\n",
      "1 - dog\n",
      "2 - monkey\n"
     ]
    }
   ],
   "source": [
    "for index, animal in enumerate(animals): \n",
    "    print(index, '-', animal)"
   ]
  },
  {
   "cell_type": "code",
   "execution_count": 44,
   "id": "9d7af566",
   "metadata": {},
   "outputs": [
    {
     "name": "stdout",
     "output_type": "stream",
     "text": [
      "Tuple:  ('cat', 'small')\n",
      "Tuple:  ('dog', 'medium')\n",
      "Tuple:  ('monkey', 'medium')\n"
     ]
    }
   ],
   "source": [
    "for t in zip(animals, sizes):\n",
    "    print('Tuple: ', t)"
   ]
  },
  {
   "cell_type": "markdown",
   "id": "870ec28b",
   "metadata": {},
   "source": [
    "<div id='7'><h3>Dictionaries: </h3></div>\n",
    "<br />\n",
    "A dictionary stores (key, value) pairs, similar to a `Map` in Java or an object in Javascript. You can use it like this:"
   ]
  },
  {
   "cell_type": "code",
   "execution_count": 88,
   "id": "1fb09060",
   "metadata": {},
   "outputs": [],
   "source": [
    "user = {\n",
    "    'id': '345',\n",
    "    'name': 'Erfan',\n",
    "    'family-name': 'Asadi',\n",
    "    'age': '23',\n",
    "    'height': '198'\n",
    "}"
   ]
  },
  {
   "cell_type": "code",
   "execution_count": 89,
   "id": "0ddde50c",
   "metadata": {},
   "outputs": [
    {
     "data": {
      "text/plain": [
       "{'id': '345',\n",
       " 'name': 'Erfan',\n",
       " 'family name': 'Asadi',\n",
       " 'age': '23',\n",
       " 'height': '198'}"
      ]
     },
     "execution_count": 89,
     "metadata": {},
     "output_type": "execute_result"
    }
   ],
   "source": [
    "user"
   ]
  },
  {
   "cell_type": "code",
   "execution_count": 90,
   "id": "148ab8a0",
   "metadata": {},
   "outputs": [
    {
     "data": {
      "text/plain": [
       "'345'"
      ]
     },
     "execution_count": 90,
     "metadata": {},
     "output_type": "execute_result"
    }
   ],
   "source": [
    "user['id']"
   ]
  },
  {
   "cell_type": "code",
   "execution_count": 91,
   "id": "b5b36159",
   "metadata": {},
   "outputs": [
    {
     "ename": "KeyError",
     "evalue": "'gender'",
     "output_type": "error",
     "traceback": [
      "\u001b[1;31m---------------------------------------------------------------------------\u001b[0m",
      "\u001b[1;31mKeyError\u001b[0m                                  Traceback (most recent call last)",
      "\u001b[1;32m<ipython-input-91-db4d13779cd4>\u001b[0m in \u001b[0;36m<module>\u001b[1;34m\u001b[0m\n\u001b[1;32m----> 1\u001b[1;33m \u001b[0muser\u001b[0m\u001b[1;33m[\u001b[0m\u001b[1;34m'gender'\u001b[0m\u001b[1;33m]\u001b[0m\u001b[1;33m\u001b[0m\u001b[0m\n\u001b[0m",
      "\u001b[1;31mKeyError\u001b[0m: 'gender'"
     ]
    }
   ],
   "source": [
    "user['gender']"
   ]
  },
  {
   "cell_type": "code",
   "execution_count": 92,
   "id": "44311f49",
   "metadata": {},
   "outputs": [],
   "source": [
    "user['gender'] = 'male'"
   ]
  },
  {
   "cell_type": "code",
   "execution_count": 93,
   "id": "267b9aaa",
   "metadata": {},
   "outputs": [
    {
     "data": {
      "text/plain": [
       "'male'"
      ]
     },
     "execution_count": 93,
     "metadata": {},
     "output_type": "execute_result"
    }
   ],
   "source": [
    "user['gender']"
   ]
  },
  {
   "cell_type": "code",
   "execution_count": 78,
   "id": "a64fb7e8",
   "metadata": {},
   "outputs": [
    {
     "data": {
      "text/plain": [
       "True"
      ]
     },
     "execution_count": 78,
     "metadata": {},
     "output_type": "execute_result"
    }
   ],
   "source": [
    "'name' in user"
   ]
  },
  {
   "cell_type": "code",
   "execution_count": 79,
   "id": "b5eed441",
   "metadata": {},
   "outputs": [
    {
     "data": {
      "text/plain": [
       "False"
      ]
     },
     "execution_count": 79,
     "metadata": {},
     "output_type": "execute_result"
    }
   ],
   "source": [
    "'erfan' in user"
   ]
  },
  {
   "cell_type": "code",
   "execution_count": 94,
   "id": "03e97343",
   "metadata": {},
   "outputs": [
    {
     "name": "stdout",
     "output_type": "stream",
     "text": [
      "id -> 345\n",
      "name -> Erfan\n",
      "family name -> Asadi\n",
      "age -> 23\n",
      "height -> 198\n",
      "gender -> male\n"
     ]
    }
   ],
   "source": [
    "for inf in user: \n",
    "    print(inf, '->', user[inf])"
   ]
  },
  {
   "cell_type": "code",
   "execution_count": 95,
   "id": "41d782aa",
   "metadata": {},
   "outputs": [],
   "source": [
    "del user['age']"
   ]
  },
  {
   "cell_type": "code",
   "execution_count": 96,
   "id": "e9bf380e",
   "metadata": {},
   "outputs": [
    {
     "data": {
      "text/plain": [
       "{'id': '345',\n",
       " 'name': 'Erfan',\n",
       " 'family name': 'Asadi',\n",
       " 'height': '198',\n",
       " 'gender': 'male'}"
      ]
     },
     "execution_count": 96,
     "metadata": {},
     "output_type": "execute_result"
    }
   ],
   "source": [
    "user"
   ]
  },
  {
   "cell_type": "code",
   "execution_count": 87,
   "id": "9eafbb15",
   "metadata": {},
   "outputs": [],
   "source": [
    "user2 = {\n",
    "    'id': '346',\n",
    "    'name': 'Reza',\n",
    "    'family-name': 'Parsa',\n",
    "    'age': '24',\n",
    "    'height': '180'\n",
    "}"
   ]
  },
  {
   "cell_type": "code",
   "execution_count": 81,
   "id": "370be137",
   "metadata": {},
   "outputs": [],
   "source": [
    "users = [user, user2]"
   ]
  },
  {
   "cell_type": "code",
   "execution_count": 82,
   "id": "52e9eec6",
   "metadata": {},
   "outputs": [
    {
     "data": {
      "text/plain": [
       "[{'id': '345', 'name': 'Erfan', 'age': '23', 'gender': 'male'},\n",
       " {'id': '346', 'name': 'Reza', 'age': '24', 'gender': 'male'}]"
      ]
     },
     "execution_count": 82,
     "metadata": {},
     "output_type": "execute_result"
    }
   ],
   "source": [
    "users "
   ]
  },
  {
   "cell_type": "code",
   "execution_count": 97,
   "id": "66e5a8ad",
   "metadata": {},
   "outputs": [
    {
     "name": "stdout",
     "output_type": "stream",
     "text": [
      "{0: 0, 2: 4, 4: 16}\n"
     ]
    }
   ],
   "source": [
    "nums = [0, 1, 2, 3, 4]\n",
    "even_num_to_square = {x: x ** 2 for x in nums if x % 2 == 0}\n",
    "print(even_num_to_square)"
   ]
  },
  {
   "cell_type": "markdown",
   "id": "d87232f6",
   "metadata": {},
   "source": [
    "<div id='7'><h3>Functions: </h3></div>"
   ]
  },
  {
   "cell_type": "code",
   "execution_count": 102,
   "id": "3a13fb41",
   "metadata": {},
   "outputs": [],
   "source": [
    "# A function to calculate the abstract value of a numeral variable \n",
    "def absolute_value(x):\n",
    "    abs_val = x\n",
    "    if x < 0: \n",
    "        abs_val *= -1\n",
    "    return abs_val"
   ]
  },
  {
   "cell_type": "code",
   "execution_count": 103,
   "id": "fc008ebd",
   "metadata": {},
   "outputs": [
    {
     "data": {
      "text/plain": [
       "12"
      ]
     },
     "execution_count": 103,
     "metadata": {},
     "output_type": "execute_result"
    }
   ],
   "source": [
    "absolute_value(-12)"
   ]
  },
  {
   "cell_type": "code",
   "execution_count": 104,
   "id": "ffb90cc1",
   "metadata": {},
   "outputs": [
    {
     "data": {
      "text/plain": [
       "172"
      ]
     },
     "execution_count": 104,
     "metadata": {},
     "output_type": "execute_result"
    }
   ],
   "source": [
    "absolute_value(172)"
   ]
  },
  {
   "cell_type": "code",
   "execution_count": 113,
   "id": "0f41fa25",
   "metadata": {},
   "outputs": [],
   "source": [
    "# A function to multiply elements * n\n",
    "def power(x, n=2):\n",
    "    result = x\n",
    "    for i in range(n - 1):\n",
    "        result *= result\n",
    "    return result\n",
    "    "
   ]
  },
  {
   "cell_type": "code",
   "execution_count": 29,
   "id": "536f799c",
   "metadata": {},
   "outputs": [
    {
     "ename": "NameError",
     "evalue": "name 'power' is not defined",
     "output_type": "error",
     "traceback": [
      "\u001b[1;31m---------------------------------------------------------------------------\u001b[0m",
      "\u001b[1;31mNameError\u001b[0m                                 Traceback (most recent call last)",
      "\u001b[1;32m<ipython-input-29-b5d41c958809>\u001b[0m in \u001b[0;36m<module>\u001b[1;34m\u001b[0m\n\u001b[1;32m----> 1\u001b[1;33m \u001b[0mpower\u001b[0m\u001b[1;33m(\u001b[0m\u001b[1;33m)\u001b[0m\u001b[1;33m\u001b[0m\u001b[0m\n\u001b[0m",
      "\u001b[1;31mNameError\u001b[0m: name 'power' is not defined"
     ]
    }
   ],
   "source": [
    "power()"
   ]
  },
  {
   "cell_type": "code",
   "execution_count": 114,
   "id": "cccd6039",
   "metadata": {},
   "outputs": [
    {
     "data": {
      "text/plain": [
       "36"
      ]
     },
     "execution_count": 114,
     "metadata": {},
     "output_type": "execute_result"
    }
   ],
   "source": [
    "power(6)"
   ]
  },
  {
   "cell_type": "code",
   "execution_count": 115,
   "id": "48a9acae",
   "metadata": {},
   "outputs": [
    {
     "data": {
      "text/plain": [
       "81"
      ]
     },
     "execution_count": 115,
     "metadata": {},
     "output_type": "execute_result"
    }
   ],
   "source": [
    "power(3, 3)"
   ]
  },
  {
   "cell_type": "code",
   "execution_count": 111,
   "id": "b6c89ac2",
   "metadata": {},
   "outputs": [
    {
     "name": "stdout",
     "output_type": "stream",
     "text": [
      "15\n"
     ]
    }
   ],
   "source": [
    "x = lambda a : a + 10\n",
    "print(x(5))"
   ]
  },
  {
   "cell_type": "code",
   "execution_count": 112,
   "id": "ec91fe03",
   "metadata": {},
   "outputs": [
    {
     "name": "stdout",
     "output_type": "stream",
     "text": [
      "13\n"
     ]
    }
   ],
   "source": [
    "x = lambda a, b, c : a + b + c\n",
    "print(x(5, 6, 2))"
   ]
  },
  {
   "cell_type": "markdown",
   "id": "af644068",
   "metadata": {},
   "source": [
    "<div id='8'><h3>Classes: </h3></div>"
   ]
  },
  {
   "cell_type": "code",
   "execution_count": 138,
   "id": "392de757",
   "metadata": {},
   "outputs": [],
   "source": [
    "class Dataset:\n",
    "    \n",
    "    # Constructor\n",
    "    def __init__(self, data, label):\n",
    "        self.data = data\n",
    "        self.labels = label\n",
    "        \n",
    "    # Instance method\n",
    "    def get_data(self, index):\n",
    "        if index >= len(self.data):\n",
    "            print('Invalid Index!!!')\n",
    "        return (self.data[index], self.labels[index])\n",
    "    \n",
    "    def set_label_data(self, index, new_label):\n",
    "        if index >= len(self.data):\n",
    "            print('Invalid Index!!!')\n",
    "        self.labels[index] = new_label\n",
    "    \n",
    "        "
   ]
  },
  {
   "cell_type": "code",
   "execution_count": 139,
   "id": "de9f85f1",
   "metadata": {},
   "outputs": [],
   "source": [
    "dataset = Dataset([-2, 3, -4, 4, 5, -6], ['N', 'P', 'N', 'P','P','P'])"
   ]
  },
  {
   "cell_type": "code",
   "execution_count": 140,
   "id": "d19dbe0e",
   "metadata": {},
   "outputs": [
    {
     "data": {
      "text/plain": [
       "(-4, 'N')"
      ]
     },
     "execution_count": 140,
     "metadata": {},
     "output_type": "execute_result"
    }
   ],
   "source": [
    "dataset.get_data(2)"
   ]
  },
  {
   "cell_type": "code",
   "execution_count": 141,
   "id": "fb653478",
   "metadata": {},
   "outputs": [
    {
     "data": {
      "text/plain": [
       "(-6, 'P')"
      ]
     },
     "execution_count": 141,
     "metadata": {},
     "output_type": "execute_result"
    }
   ],
   "source": [
    "dataset.get_data(-1)"
   ]
  },
  {
   "cell_type": "code",
   "execution_count": 142,
   "id": "0f30af2d",
   "metadata": {},
   "outputs": [],
   "source": [
    "dataset.set_label_data(-1, 'N')"
   ]
  },
  {
   "cell_type": "code",
   "execution_count": 136,
   "id": "b9f8498a",
   "metadata": {},
   "outputs": [
    {
     "data": {
      "text/plain": [
       "(-6, 'N')"
      ]
     },
     "execution_count": 136,
     "metadata": {},
     "output_type": "execute_result"
    }
   ],
   "source": [
    "dataset.get_data(-1)"
   ]
  },
  {
   "cell_type": "markdown",
   "id": "1955ac96",
   "metadata": {},
   "source": [
    "<hr />\n",
    "\n",
    "### About the author\n",
    "\n",
    "`Name`: Erfan Asadi\n",
    "<br />\n",
    "`Email`: erfanasadi.ce@gmail.com\n",
    "<br />\n",
    "`Linkedin`: https://www.linkedin.com/in/erfan-asadi-9b64b9163/\n",
    "<br />\n",
    "`GitHub`: https://github.com/ErfanAsadi\n",
    "<br />\n",
    "<hr />\n"
   ]
  }
 ],
 "metadata": {
  "kernelspec": {
   "display_name": "Python 3",
   "language": "python",
   "name": "python3"
  },
  "language_info": {
   "codemirror_mode": {
    "name": "ipython",
    "version": 3
   },
   "file_extension": ".py",
   "mimetype": "text/x-python",
   "name": "python",
   "nbconvert_exporter": "python",
   "pygments_lexer": "ipython3",
   "version": "3.7.0"
  }
 },
 "nbformat": 4,
 "nbformat_minor": 5
}
