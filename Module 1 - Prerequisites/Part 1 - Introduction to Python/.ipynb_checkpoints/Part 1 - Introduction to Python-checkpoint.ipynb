{
 "cells": [
  {
   "cell_type": "markdown",
   "id": "2e5d0d28",
   "metadata": {},
   "source": [
    "<img src=\"./Python.jpg\"/>"
   ]
  },
  {
   "cell_type": "markdown",
   "id": "e140e48b",
   "metadata": {},
   "source": [
    "<p style=\"font-size: 16px\">In this section, we are going to help you to get familiar with <b>python</b>. <br /> \n",
    "We will see some code snippets to percept the concepts better.</p>"
   ]
  },
  {
   "cell_type": "markdown",
   "id": "4b142e28",
   "metadata": {},
   "source": [
    "<h3>Contents:</h3>\n",
    "<ul>\n",
    "    <li><a href='#1'>What is Python?</a></li>\n",
    "    <li><a href='#2'>AI and Python: Why?</a></li>\n",
    "    <li><a href='#3'>Installation</a></li>\n",
    "    <li><a href='#4'>Variable & Data Types</a></li>\n",
    "    <ul>\n",
    "        <li><a href='#41'>Numbers</a></li>\n",
    "        <li><a href='#42'>Booleans</a></li>\n",
    "        <li><a href='#43'>Strings</a></li>\n",
    "    </ul>\n",
    "    <li><a href='#5'>Random</a></li>\n",
    "    <li><a href='#6'>Reshape</a></li>\n",
    "    <li><a href='#7'>Arithmetic Functions</a></li>\n",
    "    <li><a href='#8'>Statistical Functions</a></li>\n",
    "    <li><a href='#9'>Universal Functions</a></li>\n",
    "</ul>"
   ]
  },
  {
   "cell_type": "markdown",
   "id": "9e680e6c",
   "metadata": {},
   "source": [
    "<hr />\n",
    "<h3><div id='1'> What is Python? </div></h3>\n",
    "<br /> \n",
    "Python is an interpreted high-level general-purpose programming language. Its design philosophy emphasizes code readability with its use of significant indentation. Its language constructs as well as its object-oriented approach aim to help programmers write clear, logical code for small and large-scale projects. (Wikipedia)\n",
    "<br/>\n",
    "Click <a href='https://www.python.org/'>here</a> to read more about.\n",
    "\n",
    "<hr />"
   ]
  },
  {
   "cell_type": "markdown",
   "id": "2f5b9589",
   "metadata": {},
   "source": [
    "<h3><div id='2'>AI and Python: Why?</div></h3>\n",
    "<br />\n",
    "Python offers the least code among others and is in fact 1/5 the number compared to other OOP languages. No wonder it is one of the most popular in the market today.\n",
    "\n",
    "Python has Prebuilt Libraries like Numpy for scientific computation, Scipy for advanced computing and Pybrain for machine learning (Python Machine Learning) making it one of the best languages For AI.\n",
    "Python developers around the world provide comprehensive support and assistance via forums and tutorials making the job of the coder easier than any other popular languages.\n",
    "Python is platform Independent and is hence one of the most flexible and popular choices for use across different platforms and technologies with the least tweaks in basic coding.\n",
    "Python is the most flexible of all others with options to choose between OOPs approach and scripting. You can also use IDE itself to check for most codes and is a boon for developers struggling with different algorithms.\n",
    "\n",
    "Click <a href=\"https://www.cuelogic.com/blog/role-of-python-in-artificial-intelligence\">here</a> to read more about this topic. \n",
    "<hr /> "
   ]
  },
  {
   "cell_type": "markdown",
   "id": "6624c1c3",
   "metadata": {},
   "source": [
    "<div id='3'><h3>Installation</h3></div>\n",
    "<br />\n",
    "Click <a href='https://medium.com/co-learning-lounge/how-to-download-install-python-on-windows-2021-44a707994013'>here</a> to see the complete installation guide."
   ]
  },
  {
   "cell_type": "markdown",
   "id": "29776b81",
   "metadata": {},
   "source": [
    "<div id='4'><h3>Variable & Data Types</h3></div>"
   ]
  },
  {
   "cell_type": "code",
   "execution_count": 4,
   "id": "60b83d11",
   "metadata": {},
   "outputs": [],
   "source": [
    "num = 2\n",
    "text = 'Hello, ANN students'"
   ]
  },
  {
   "cell_type": "markdown",
   "id": "ded91a9f",
   "metadata": {},
   "source": [
    "<div id='41'><h4>Numbers</h4></div>"
   ]
  },
  {
   "cell_type": "code",
   "execution_count": 11,
   "id": "85ba82bb",
   "metadata": {},
   "outputs": [
    {
     "name": "stdout",
     "output_type": "stream",
     "text": [
      "x:  2 <class 'int'>\n",
      "y:  1443 <class 'int'>\n",
      "z:  -4 <class 'int'>\n",
      "f:  0.032 <class 'float'>\n"
     ]
    }
   ],
   "source": [
    "x = 2\n",
    "y = 1443\n",
    "z = -4\n",
    "f = 0.032\n",
    "\n",
    "print('x: ', x, type(x))\n",
    "print('y: ', y, type(y))\n",
    "print('z: ', z, type(z))\n",
    "print('f: ', f, type(f))"
   ]
  },
  {
   "cell_type": "markdown",
   "id": "01933c4f",
   "metadata": {},
   "source": [
    "<div id='42'><h4>Boolean</h4></div>"
   ]
  },
  {
   "cell_type": "code",
   "execution_count": 12,
   "id": "70b37e93",
   "metadata": {},
   "outputs": [],
   "source": [
    "t_bool = True \n",
    "f_bool = False"
   ]
  },
  {
   "cell_type": "code",
   "execution_count": 17,
   "id": "a0a1cabd",
   "metadata": {},
   "outputs": [
    {
     "name": "stdout",
     "output_type": "stream",
     "text": [
      "t_bool: True <class 'bool'>\n",
      "f_bool: False <class 'bool'>\n"
     ]
    }
   ],
   "source": [
    "print('t_bool:', t_bool, type(t_bool))\n",
    "print('f_bool:', f_bool, type(f_bool))"
   ]
  },
  {
   "cell_type": "markdown",
   "id": "81774248",
   "metadata": {},
   "source": [
    "<div id='43'><h4>Strings</h4></div>"
   ]
  },
  {
   "cell_type": "code",
   "execution_count": 15,
   "id": "b49d578a",
   "metadata": {},
   "outputs": [],
   "source": [
    "text = \"Hello, This is your first text in python.\""
   ]
  },
  {
   "cell_type": "code",
   "execution_count": 16,
   "id": "06c86764",
   "metadata": {},
   "outputs": [
    {
     "name": "stdout",
     "output_type": "stream",
     "text": [
      "text Hello, This is your first text in python <class 'str'>\n"
     ]
    }
   ],
   "source": [
    "print('text: ', text, type(text))"
   ]
  },
  {
   "cell_type": "markdown",
   "id": "3c0c7b25",
   "metadata": {},
   "source": [
    "<div id='5'><h3>Operators</h3></div>"
   ]
  },
  {
   "cell_type": "markdown",
   "id": "c23bca93",
   "metadata": {},
   "source": [
    "<div id='51'><h4>Arithmetic Operators</h4></div>"
   ]
  },
  {
   "cell_type": "code",
   "execution_count": 29,
   "id": "41b80d06",
   "metadata": {},
   "outputs": [],
   "source": [
    "x = 68\n",
    "y = 3"
   ]
  },
  {
   "cell_type": "code",
   "execution_count": 30,
   "id": "80070920",
   "metadata": {},
   "outputs": [
    {
     "name": "stdout",
     "output_type": "stream",
     "text": [
      "Addition: x + y = 71\n",
      "Sunstraction: x - y = 65\n",
      "Multiplication: x * y = 204\n",
      "Division: x / y = 22.666666666666668\n",
      "Modulus: x % y = 2\n",
      "Exponentiation: x ** y = 314432\n",
      "Floor Division: x // y = 22\n"
     ]
    }
   ],
   "source": [
    "print('Addition: x + y =', x + y)\n",
    "print('Sunstraction: x - y =', x - y)\n",
    "print('Multiplication: x * y =', x * y)\n",
    "print('Division: x / y =', x / y)\n",
    "print('Modulus: x % y =', x % y)\n",
    "print('Exponentiation: x ** y =', x ** y)\n",
    "print('Floor Division: x // y =', x // y)"
   ]
  },
  {
   "cell_type": "markdown",
   "id": "f09cdc25",
   "metadata": {},
   "source": [
    "<div id='52'><h4>Assignment Operators</h4></div>"
   ]
  },
  {
   "cell_type": "code",
   "execution_count": 40,
   "id": "7f55b9e5",
   "metadata": {},
   "outputs": [],
   "source": [
    "x = 9\n",
    "x += 5\n",
    "x -= 2\n",
    "x *= 4\n",
    "x /= 2\n",
    "x %= 100\n",
    "x //= 7\n",
    "x **= 2"
   ]
  },
  {
   "cell_type": "markdown",
   "id": "1db838fc",
   "metadata": {},
   "source": [
    "<div id='53'><h4>Bitwise Assignment Operators</h4></div>"
   ]
  },
  {
   "cell_type": "code",
   "execution_count": 47,
   "id": "3d03f541",
   "metadata": {},
   "outputs": [
    {
     "data": {
      "text/plain": [
       "1"
      ]
     },
     "execution_count": 47,
     "metadata": {},
     "output_type": "execute_result"
    }
   ],
   "source": [
    "x = 5\n",
    "x &= 3 # Bitwise and\n",
    "x"
   ]
  },
  {
   "cell_type": "code",
   "execution_count": 46,
   "id": "45311af8",
   "metadata": {},
   "outputs": [
    {
     "data": {
      "text/plain": [
       "7"
      ]
     },
     "execution_count": 46,
     "metadata": {},
     "output_type": "execute_result"
    }
   ],
   "source": [
    "x = 5\n",
    "x |= 3 # Bitwise or\n",
    "x"
   ]
  },
  {
   "cell_type": "code",
   "execution_count": 45,
   "id": "0519cace",
   "metadata": {},
   "outputs": [
    {
     "data": {
      "text/plain": [
       "6"
      ]
     },
     "execution_count": 45,
     "metadata": {},
     "output_type": "execute_result"
    }
   ],
   "source": [
    "x = 5\n",
    "x ^= 3 # Bitwise xor\n",
    "x"
   ]
  },
  {
   "cell_type": "code",
   "execution_count": 44,
   "id": "a2c4f70d",
   "metadata": {},
   "outputs": [
    {
     "data": {
      "text/plain": [
       "0"
      ]
     },
     "execution_count": 44,
     "metadata": {},
     "output_type": "execute_result"
    }
   ],
   "source": [
    "x = 5\n",
    "x >>= 3 # Shift to right\n",
    "x"
   ]
  },
  {
   "cell_type": "code",
   "execution_count": 43,
   "id": "66e68ad1",
   "metadata": {},
   "outputs": [
    {
     "data": {
      "text/plain": [
       "40"
      ]
     },
     "execution_count": 43,
     "metadata": {},
     "output_type": "execute_result"
    }
   ],
   "source": [
    "x = 5\n",
    "x <<= 3 # Shift to right\n",
    "x"
   ]
  },
  {
   "cell_type": "markdown",
   "id": "d7addbb3",
   "metadata": {},
   "source": [
    "<div id='54'><h4>Comparison Operators</h4></div>"
   ]
  },
  {
   "cell_type": "code",
   "execution_count": 49,
   "id": "9debfa4a",
   "metadata": {},
   "outputs": [],
   "source": [
    "x = 5\n",
    "y = 4 \n",
    "z = 2"
   ]
  },
  {
   "cell_type": "code",
   "execution_count": 50,
   "id": "9cce4325",
   "metadata": {},
   "outputs": [
    {
     "data": {
      "text/plain": [
       "True"
      ]
     },
     "execution_count": 50,
     "metadata": {},
     "output_type": "execute_result"
    }
   ],
   "source": [
    "x == x"
   ]
  },
  {
   "cell_type": "code",
   "execution_count": 51,
   "id": "d07459f9",
   "metadata": {},
   "outputs": [
    {
     "data": {
      "text/plain": [
       "True"
      ]
     },
     "execution_count": 51,
     "metadata": {},
     "output_type": "execute_result"
    }
   ],
   "source": [
    "x > y "
   ]
  },
  {
   "cell_type": "code",
   "execution_count": 52,
   "id": "0b9a76df",
   "metadata": {},
   "outputs": [
    {
     "data": {
      "text/plain": [
       "True"
      ]
     },
     "execution_count": 52,
     "metadata": {},
     "output_type": "execute_result"
    }
   ],
   "source": [
    "z < y < x"
   ]
  },
  {
   "cell_type": "code",
   "execution_count": 53,
   "id": "92cdc175",
   "metadata": {},
   "outputs": [
    {
     "data": {
      "text/plain": [
       "True"
      ]
     },
     "execution_count": 53,
     "metadata": {},
     "output_type": "execute_result"
    }
   ],
   "source": [
    "z <= z"
   ]
  },
  {
   "cell_type": "markdown",
   "id": "608c78d1",
   "metadata": {},
   "source": [
    "<div id='55'><h4>Logical Operators</h4></div>"
   ]
  },
  {
   "cell_type": "code",
   "execution_count": 57,
   "id": "de19d20f",
   "metadata": {},
   "outputs": [],
   "source": [
    "a = True\n",
    "b = False "
   ]
  },
  {
   "cell_type": "code",
   "execution_count": 58,
   "id": "1cb903d6",
   "metadata": {},
   "outputs": [
    {
     "data": {
      "text/plain": [
       "False"
      ]
     },
     "execution_count": 58,
     "metadata": {},
     "output_type": "execute_result"
    }
   ],
   "source": [
    "a and b"
   ]
  },
  {
   "cell_type": "code",
   "execution_count": 59,
   "id": "df3e1ca2",
   "metadata": {},
   "outputs": [
    {
     "data": {
      "text/plain": [
       "True"
      ]
     },
     "execution_count": 59,
     "metadata": {},
     "output_type": "execute_result"
    }
   ],
   "source": [
    "a or b"
   ]
  },
  {
   "cell_type": "code",
   "execution_count": 60,
   "id": "03a80090",
   "metadata": {},
   "outputs": [
    {
     "data": {
      "text/plain": [
       "False"
      ]
     },
     "execution_count": 60,
     "metadata": {},
     "output_type": "execute_result"
    }
   ],
   "source": [
    "not a"
   ]
  },
  {
   "cell_type": "markdown",
   "id": "b01fdbe7",
   "metadata": {},
   "source": [
    "<div id='6'><h3>Conditional Statements</h3></div>\n"
   ]
  },
  {
   "cell_type": "code",
   "execution_count": 45,
   "id": "ef1c30cf",
   "metadata": {},
   "outputs": [
    {
     "name": "stdout",
     "output_type": "stream",
     "text": [
      "Hello everybody!\n"
     ]
    }
   ],
   "source": [
    "if True: \n",
    "    print('Hello everybody!')"
   ]
  },
  {
   "cell_type": "code",
   "execution_count": 56,
   "id": "b053651b",
   "metadata": {},
   "outputs": [
    {
     "name": "stdout",
     "output_type": "stream",
     "text": [
      "Hello again!\n"
     ]
    }
   ],
   "source": [
    "if True: print('Hello again!')"
   ]
  },
  {
   "cell_type": "code",
   "execution_count": 57,
   "id": "17a69647",
   "metadata": {},
   "outputs": [],
   "source": [
    "if False:\n",
    "    print('Bye!')"
   ]
  },
  {
   "cell_type": "code",
   "execution_count": 65,
   "id": "7c13c29a",
   "metadata": {},
   "outputs": [],
   "source": [
    "number_of_chairs = 120\n",
    "number_of_students = 110"
   ]
  },
  {
   "cell_type": "code",
   "execution_count": 59,
   "id": "c1c397ed",
   "metadata": {},
   "outputs": [
    {
     "name": "stdout",
     "output_type": "stream",
     "text": [
      "You must pruchase 10 chairs for students\n"
     ]
    }
   ],
   "source": [
    "if number_of_chairs >= number_of_students: \n",
    "    print('No need to buy chair for students.')\n",
    "else:\n",
    "    print('You must pruchase {} chairs for students'.format(number_of_students - number_of_chairs))"
   ]
  },
  {
   "cell_type": "code",
   "execution_count": 67,
   "id": "e9a02e75",
   "metadata": {},
   "outputs": [
    {
     "name": "stdout",
     "output_type": "stream",
     "text": [
      "You can add 10 students to your class.\n"
     ]
    }
   ],
   "source": [
    "if number_of_chairs == number_of_students: \n",
    "    print('No need to buy chair for students.')\n",
    "elif number_of_chairs > number_of_students:\n",
    "    print('You can add {} students to your class.'.format(number_of_chairs - number_of_students))\n",
    "else:\n",
    "    print('You must pruchase {} chairs for students'.format(number_of_students - number_of_chairs))"
   ]
  },
  {
   "cell_type": "markdown",
   "id": "d1e65903",
   "metadata": {},
   "source": [
    "<div id='55'><h4>Inline Conditions:</h4></div>"
   ]
  },
  {
   "cell_type": "code",
   "execution_count": 61,
   "id": "39b8c3b9",
   "metadata": {},
   "outputs": [
    {
     "data": {
      "text/plain": [
       "'Hot'"
      ]
     },
     "execution_count": 61,
     "metadata": {},
     "output_type": "execute_result"
    }
   ],
   "source": [
    "weather_temprature = 30 \n",
    "\n",
    "feel = 'Cold' if weather_temprature < 10 else 'Hot'\n",
    "feel"
   ]
  },
  {
   "cell_type": "markdown",
   "id": "b655cc2c",
   "metadata": {},
   "source": [
    "<div id='6'><h3>Data Containers</h3></div>\n",
    "<br /> \n",
    "Python include several built-in containers such as lists, dictionaries, sets and tuples."
   ]
  },
  {
   "cell_type": "markdown",
   "id": "ed4548a7",
   "metadata": {},
   "source": [
    "<div id='61'><h4>Lists</h4></div>"
   ]
  },
  {
   "cell_type": "code",
   "execution_count": 13,
   "id": "7a5fe603",
   "metadata": {},
   "outputs": [
    {
     "name": "stdout",
     "output_type": "stream",
     "text": [
      "python_list:  [1, 2, 3, 4, 5, 6]\n",
      "third element of python_list:  3\n",
      "last element of python_list:  6\n"
     ]
    }
   ],
   "source": [
    "python_list = [1, 2, 3, 4, 5, 6]\n",
    "print('python_list: ', python_list)\n",
    "print('third element of python_list: ', python_list[2])\n",
    "print('last element of python_list: ', python_list[-1])"
   ]
  },
  {
   "cell_type": "code",
   "execution_count": 137,
   "id": "1b7a93fe",
   "metadata": {},
   "outputs": [
    {
     "data": {
      "text/plain": [
       "6"
      ]
     },
     "execution_count": 137,
     "metadata": {},
     "output_type": "execute_result"
    }
   ],
   "source": [
    "len(python_list)"
   ]
  },
  {
   "cell_type": "code",
   "execution_count": 14,
   "id": "0cd6fb68",
   "metadata": {},
   "outputs": [
    {
     "name": "stdout",
     "output_type": "stream",
     "text": [
      "python_list:  [1, 2, 'foo', 4, 5, 6]\n"
     ]
    }
   ],
   "source": [
    "python_list[2] = 'foo'\n",
    "print('python_list: ', python_list)"
   ]
  },
  {
   "cell_type": "code",
   "execution_count": 15,
   "id": "d9d1067a",
   "metadata": {},
   "outputs": [
    {
     "name": "stdout",
     "output_type": "stream",
     "text": [
      "python_list:  [1, 2, 'foo', 4, 5, 6, 'last_item']\n"
     ]
    }
   ],
   "source": [
    "python_list.append('last_item')\n",
    "print('python_list: ', python_list)"
   ]
  },
  {
   "cell_type": "code",
   "execution_count": 16,
   "id": "cb92b969",
   "metadata": {},
   "outputs": [
    {
     "name": "stdout",
     "output_type": "stream",
     "text": [
      "python_list:  [1, 2, 'foo', 4, 5, 6]\n"
     ]
    }
   ],
   "source": [
    "python_list.pop()\n",
    "print('python_list: ', python_list)"
   ]
  },
  {
   "cell_type": "markdown",
   "id": "aa87ebfb",
   "metadata": {},
   "source": [
    "<div id='61'><h4>Slicing</h4></div>"
   ]
  },
  {
   "cell_type": "code",
   "execution_count": 21,
   "id": "1d161403",
   "metadata": {},
   "outputs": [
    {
     "name": "stdout",
     "output_type": "stream",
     "text": [
      "nums: [0, 1, 2, 3, 4]\n",
      "nums: [2, 3, 4]\n",
      "nums: [2, 3, 4]\n",
      "nums: [0, 1, 2, 3]\n",
      "nums: [0, 1, 8, 9, 4]\n"
     ]
    }
   ],
   "source": [
    "nums = list(range(5))    \n",
    "print('nums:', nums)         \n",
    "print('nums:', nums[2:5])\n",
    "print('nums:', nums[2:])    \n",
    "print('nums:', nums[:-1])   \n",
    "nums[2:4] = [8, 9]           \n",
    "print ('nums:', nums)         "
   ]
  },
  {
   "cell_type": "markdown",
   "id": "06a31715",
   "metadata": {},
   "source": [
    "<div id='61'><h4>Loops on arrays:</h4></div>"
   ]
  },
  {
   "cell_type": "code",
   "execution_count": 40,
   "id": "bfc8171b",
   "metadata": {},
   "outputs": [],
   "source": [
    "animals = ['cat', 'dog', 'monkey']\n",
    "sizes = ['small', 'medium', 'medium']"
   ]
  },
  {
   "cell_type": "code",
   "execution_count": 31,
   "id": "6572c151",
   "metadata": {},
   "outputs": [
    {
     "name": "stdout",
     "output_type": "stream",
     "text": [
      "Animals -------------\n",
      "cat\n",
      "dog\n",
      "monkey\n",
      "\n",
      "Sizes -------------\n",
      "small\n",
      "medium\n",
      "medium\n"
     ]
    }
   ],
   "source": [
    "print('Animals -------------')\n",
    "for animal in animals:\n",
    "    print(animal)\n",
    "print('\\nSizes -------------')\n",
    "for size in sizes:\n",
    "    print(size)"
   ]
  },
  {
   "cell_type": "code",
   "execution_count": 32,
   "id": "388c76f2",
   "metadata": {},
   "outputs": [
    {
     "name": "stdout",
     "output_type": "stream",
     "text": [
      "0 - cat\n",
      "1 - dog\n",
      "2 - monkey\n"
     ]
    }
   ],
   "source": [
    "for index, animal in enumerate(animals): \n",
    "    print(index, '-', animal)"
   ]
  },
  {
   "cell_type": "code",
   "execution_count": 44,
   "id": "9d7af566",
   "metadata": {},
   "outputs": [
    {
     "name": "stdout",
     "output_type": "stream",
     "text": [
      "Tuple:  ('cat', 'small')\n",
      "Tuple:  ('dog', 'medium')\n",
      "Tuple:  ('monkey', 'medium')\n"
     ]
    }
   ],
   "source": [
    "for t in zip(animals, sizes):\n",
    "    print('Tuple: ', t)"
   ]
  },
  {
   "cell_type": "markdown",
   "id": "870ec28b",
   "metadata": {},
   "source": [
    "<div id='7'><h3>Dictionaries: </h3></div>\n",
    "<br />\n",
    "A dictionary stores (key, value) pairs, similar to a `Map` in Java or an object in Javascript. You can use it like this:"
   ]
  },
  {
   "cell_type": "code",
   "execution_count": 88,
   "id": "1fb09060",
   "metadata": {},
   "outputs": [],
   "source": [
    "user = {\n",
    "    'id': '345',\n",
    "    'name': 'Erfan',\n",
    "    'family-name': 'Asadi',\n",
    "    'age': '23',\n",
    "    'height': '198'\n",
    "}"
   ]
  },
  {
   "cell_type": "code",
   "execution_count": 89,
   "id": "0ddde50c",
   "metadata": {},
   "outputs": [
    {
     "data": {
      "text/plain": [
       "{'id': '345',\n",
       " 'name': 'Erfan',\n",
       " 'family name': 'Asadi',\n",
       " 'age': '23',\n",
       " 'height': '198'}"
      ]
     },
     "execution_count": 89,
     "metadata": {},
     "output_type": "execute_result"
    }
   ],
   "source": [
    "user"
   ]
  },
  {
   "cell_type": "code",
   "execution_count": 90,
   "id": "148ab8a0",
   "metadata": {},
   "outputs": [
    {
     "data": {
      "text/plain": [
       "'345'"
      ]
     },
     "execution_count": 90,
     "metadata": {},
     "output_type": "execute_result"
    }
   ],
   "source": [
    "user['id']"
   ]
  },
  {
   "cell_type": "code",
   "execution_count": 91,
   "id": "b5b36159",
   "metadata": {},
   "outputs": [
    {
     "ename": "KeyError",
     "evalue": "'gender'",
     "output_type": "error",
     "traceback": [
      "\u001b[1;31m---------------------------------------------------------------------------\u001b[0m",
      "\u001b[1;31mKeyError\u001b[0m                                  Traceback (most recent call last)",
      "\u001b[1;32m<ipython-input-91-db4d13779cd4>\u001b[0m in \u001b[0;36m<module>\u001b[1;34m\u001b[0m\n\u001b[1;32m----> 1\u001b[1;33m \u001b[0muser\u001b[0m\u001b[1;33m[\u001b[0m\u001b[1;34m'gender'\u001b[0m\u001b[1;33m]\u001b[0m\u001b[1;33m\u001b[0m\u001b[0m\n\u001b[0m",
      "\u001b[1;31mKeyError\u001b[0m: 'gender'"
     ]
    }
   ],
   "source": [
    "user['gender']"
   ]
  },
  {
   "cell_type": "code",
   "execution_count": 92,
   "id": "44311f49",
   "metadata": {},
   "outputs": [],
   "source": [
    "user['gender'] = 'male'"
   ]
  },
  {
   "cell_type": "code",
   "execution_count": 93,
   "id": "267b9aaa",
   "metadata": {},
   "outputs": [
    {
     "data": {
      "text/plain": [
       "'male'"
      ]
     },
     "execution_count": 93,
     "metadata": {},
     "output_type": "execute_result"
    }
   ],
   "source": [
    "user['gender']"
   ]
  },
  {
   "cell_type": "code",
   "execution_count": 78,
   "id": "a64fb7e8",
   "metadata": {},
   "outputs": [
    {
     "data": {
      "text/plain": [
       "True"
      ]
     },
     "execution_count": 78,
     "metadata": {},
     "output_type": "execute_result"
    }
   ],
   "source": [
    "'name' in user"
   ]
  },
  {
   "cell_type": "code",
   "execution_count": 79,
   "id": "b5eed441",
   "metadata": {},
   "outputs": [
    {
     "data": {
      "text/plain": [
       "False"
      ]
     },
     "execution_count": 79,
     "metadata": {},
     "output_type": "execute_result"
    }
   ],
   "source": [
    "'erfan' in user"
   ]
  },
  {
   "cell_type": "code",
   "execution_count": 94,
   "id": "03e97343",
   "metadata": {},
   "outputs": [
    {
     "name": "stdout",
     "output_type": "stream",
     "text": [
      "id -> 345\n",
      "name -> Erfan\n",
      "family name -> Asadi\n",
      "age -> 23\n",
      "height -> 198\n",
      "gender -> male\n"
     ]
    }
   ],
   "source": [
    "for inf in user: \n",
    "    print(inf, '->', user[inf])"
   ]
  },
  {
   "cell_type": "code",
   "execution_count": 95,
   "id": "41d782aa",
   "metadata": {},
   "outputs": [],
   "source": [
    "del user['age']"
   ]
  },
  {
   "cell_type": "code",
   "execution_count": 96,
   "id": "e9bf380e",
   "metadata": {},
   "outputs": [
    {
     "data": {
      "text/plain": [
       "{'id': '345',\n",
       " 'name': 'Erfan',\n",
       " 'family name': 'Asadi',\n",
       " 'height': '198',\n",
       " 'gender': 'male'}"
      ]
     },
     "execution_count": 96,
     "metadata": {},
     "output_type": "execute_result"
    }
   ],
   "source": [
    "user"
   ]
  },
  {
   "cell_type": "code",
   "execution_count": 87,
   "id": "9eafbb15",
   "metadata": {},
   "outputs": [],
   "source": [
    "user2 = {\n",
    "    'id': '346',\n",
    "    'name': 'Reza',\n",
    "    'family-name': 'Parsa',\n",
    "    'age': '24',\n",
    "    'height': '180'\n",
    "}"
   ]
  },
  {
   "cell_type": "code",
   "execution_count": 81,
   "id": "370be137",
   "metadata": {},
   "outputs": [],
   "source": [
    "users = [user, user2]"
   ]
  },
  {
   "cell_type": "code",
   "execution_count": 82,
   "id": "52e9eec6",
   "metadata": {},
   "outputs": [
    {
     "data": {
      "text/plain": [
       "[{'id': '345', 'name': 'Erfan', 'age': '23', 'gender': 'male'},\n",
       " {'id': '346', 'name': 'Reza', 'age': '24', 'gender': 'male'}]"
      ]
     },
     "execution_count": 82,
     "metadata": {},
     "output_type": "execute_result"
    }
   ],
   "source": [
    "users "
   ]
  },
  {
   "cell_type": "code",
   "execution_count": 97,
   "id": "66e5a8ad",
   "metadata": {},
   "outputs": [
    {
     "name": "stdout",
     "output_type": "stream",
     "text": [
      "{0: 0, 2: 4, 4: 16}\n"
     ]
    }
   ],
   "source": [
    "nums = [0, 1, 2, 3, 4]\n",
    "even_num_to_square = {x: x ** 2 for x in nums if x % 2 == 0}\n",
    "print(even_num_to_square)"
   ]
  },
  {
   "cell_type": "markdown",
   "id": "d87232f6",
   "metadata": {},
   "source": [
    "<div id='7'><h3>Functions: </h3></div>"
   ]
  },
  {
   "cell_type": "code",
   "execution_count": 102,
   "id": "3a13fb41",
   "metadata": {},
   "outputs": [],
   "source": [
    "# A function to calculate the abstract value of a numeral variable \n",
    "def absolute_value(x):\n",
    "    abs_val = x\n",
    "    if x < 0: \n",
    "        abs_val *= -1\n",
    "    return abs_val"
   ]
  },
  {
   "cell_type": "code",
   "execution_count": 103,
   "id": "fc008ebd",
   "metadata": {},
   "outputs": [
    {
     "data": {
      "text/plain": [
       "12"
      ]
     },
     "execution_count": 103,
     "metadata": {},
     "output_type": "execute_result"
    }
   ],
   "source": [
    "absolute_value(-12)"
   ]
  },
  {
   "cell_type": "code",
   "execution_count": 104,
   "id": "ffb90cc1",
   "metadata": {},
   "outputs": [
    {
     "data": {
      "text/plain": [
       "172"
      ]
     },
     "execution_count": 104,
     "metadata": {},
     "output_type": "execute_result"
    }
   ],
   "source": [
    "absolute_value(172)"
   ]
  },
  {
   "cell_type": "code",
   "execution_count": 113,
   "id": "0f41fa25",
   "metadata": {},
   "outputs": [],
   "source": [
    "# A function to multiply elements * n\n",
    "def power(x, n=2):\n",
    "    result = x\n",
    "    for i in range(n - 1):\n",
    "        result *= result\n",
    "    return result\n",
    "    "
   ]
  },
  {
   "cell_type": "code",
   "execution_count": 114,
   "id": "cccd6039",
   "metadata": {},
   "outputs": [
    {
     "data": {
      "text/plain": [
       "36"
      ]
     },
     "execution_count": 114,
     "metadata": {},
     "output_type": "execute_result"
    }
   ],
   "source": [
    "power(6)"
   ]
  },
  {
   "cell_type": "code",
   "execution_count": 115,
   "id": "48a9acae",
   "metadata": {},
   "outputs": [
    {
     "data": {
      "text/plain": [
       "81"
      ]
     },
     "execution_count": 115,
     "metadata": {},
     "output_type": "execute_result"
    }
   ],
   "source": [
    "power(3, 3)"
   ]
  },
  {
   "cell_type": "code",
   "execution_count": 111,
   "id": "b6c89ac2",
   "metadata": {},
   "outputs": [
    {
     "name": "stdout",
     "output_type": "stream",
     "text": [
      "15\n"
     ]
    }
   ],
   "source": [
    "x = lambda a : a + 10\n",
    "print(x(5))"
   ]
  },
  {
   "cell_type": "code",
   "execution_count": 112,
   "id": "ec91fe03",
   "metadata": {},
   "outputs": [
    {
     "name": "stdout",
     "output_type": "stream",
     "text": [
      "13\n"
     ]
    }
   ],
   "source": [
    "x = lambda a, b, c : a + b + c\n",
    "print(x(5, 6, 2))"
   ]
  },
  {
   "cell_type": "markdown",
   "id": "af644068",
   "metadata": {},
   "source": [
    "<div id='8'><h3>Classes: </h3></div>"
   ]
  },
  {
   "cell_type": "code",
   "execution_count": 138,
   "id": "392de757",
   "metadata": {},
   "outputs": [],
   "source": [
    "class Dataset:\n",
    "    \n",
    "    # Constructor\n",
    "    def __init__(self, data, label):\n",
    "        self.data = data\n",
    "        self.labels = label\n",
    "        \n",
    "    # Instance method\n",
    "    def get_data(self, index):\n",
    "        if index >= len(self.data):\n",
    "            print('Invalid Index!!!')\n",
    "        return (self.data[index], self.labels[index])\n",
    "    \n",
    "    def set_label_data(self, index, new_label):\n",
    "        if index >= len(self.data):\n",
    "            print('Invalid Index!!!')\n",
    "        self.labels[index] = new_label\n",
    "    \n",
    "        "
   ]
  },
  {
   "cell_type": "code",
   "execution_count": 139,
   "id": "de9f85f1",
   "metadata": {},
   "outputs": [],
   "source": [
    "dataset = Dataset([-2, 3, -4, 4, 5, -6], ['N', 'P', 'N', 'P','P','P'])"
   ]
  },
  {
   "cell_type": "code",
   "execution_count": 140,
   "id": "d19dbe0e",
   "metadata": {},
   "outputs": [
    {
     "data": {
      "text/plain": [
       "(-4, 'N')"
      ]
     },
     "execution_count": 140,
     "metadata": {},
     "output_type": "execute_result"
    }
   ],
   "source": [
    "dataset.get_data(2)"
   ]
  },
  {
   "cell_type": "code",
   "execution_count": 141,
   "id": "fb653478",
   "metadata": {},
   "outputs": [
    {
     "data": {
      "text/plain": [
       "(-6, 'P')"
      ]
     },
     "execution_count": 141,
     "metadata": {},
     "output_type": "execute_result"
    }
   ],
   "source": [
    "dataset.get_data(-1)"
   ]
  },
  {
   "cell_type": "code",
   "execution_count": 142,
   "id": "0f30af2d",
   "metadata": {},
   "outputs": [],
   "source": [
    "dataset.set_label_data(-1, 'N')"
   ]
  },
  {
   "cell_type": "code",
   "execution_count": 136,
   "id": "b9f8498a",
   "metadata": {},
   "outputs": [
    {
     "data": {
      "text/plain": [
       "(-6, 'N')"
      ]
     },
     "execution_count": 136,
     "metadata": {},
     "output_type": "execute_result"
    }
   ],
   "source": [
    "dataset.get_data(-1)"
   ]
  },
  {
   "cell_type": "markdown",
   "id": "1955ac96",
   "metadata": {},
   "source": [
    "<hr />\n",
    "\n",
    "### About the author\n",
    "\n",
    "`Name`: Erfan Asadi\n",
    "<br />\n",
    "`Email`: erfanasadi.ce@gmail.com\n",
    "<br />\n",
    "`Linkedin`: https://www.linkedin.com/in/erfan-asadi-9b64b9163/\n",
    "<br />\n",
    "`GitHub`: https://github.com/ErfanAsadi\n",
    "<br />\n",
    "<hr />\n"
   ]
  }
 ],
 "metadata": {
  "kernelspec": {
   "display_name": "Python 3",
   "language": "python",
   "name": "python3"
  },
  "language_info": {
   "codemirror_mode": {
    "name": "ipython",
    "version": 3
   },
   "file_extension": ".py",
   "mimetype": "text/x-python",
   "name": "python",
   "nbconvert_exporter": "python",
   "pygments_lexer": "ipython3",
   "version": "3.7.0"
  }
 },
 "nbformat": 4,
 "nbformat_minor": 5
}
