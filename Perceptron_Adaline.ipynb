{
 "cells": [
  {
   "cell_type": "code",
   "execution_count": 8,
   "metadata": {},
   "outputs": [],
   "source": [
    "import numpy as np\n",
    "import matplotlib.pyplot as plt"
   ]
  },
  {
   "cell_type": "code",
   "execution_count": 9,
   "metadata": {},
   "outputs": [],
   "source": [
    "def hardlim(arr):\n",
    "    return [1 if i >=0 else 0 for i in arr]"
   ]
  },
  {
   "cell_type": "code",
   "execution_count": 10,
   "metadata": {},
   "outputs": [],
   "source": [
    "P=np.array([[0.7, -0.1, -0.3, 0.1, 0.5],\n",
    "          [0.2, 0.9, 0.3, 0.2, -0.5 ]])\n",
    "T = np.array([1, 1, 0, 0, 0])\n",
    "W = np.array([0.5, 0.5])\n",
    "b = -1"
   ]
  },
  {
   "cell_type": "code",
   "execution_count": 11,
   "metadata": {},
   "outputs": [],
   "source": [
    "Y = hardlim(np.matmul(W,P)+b)"
   ]
  },
  {
   "cell_type": "code",
   "execution_count": 12,
   "metadata": {},
   "outputs": [],
   "source": [
    "nepoc = 0"
   ]
  },
  {
   "cell_type": "code",
   "execution_count": 13,
   "metadata": {},
   "outputs": [
    {
     "name": "stdout",
     "output_type": "stream",
     "text": [
      "epochs :  1\n",
      "[1.1 1.6]\n",
      "1\n",
      "epochs :  2\n",
      "[0.8 1.6]\n",
      "-2\n",
      "epochs :  3\n",
      "[1.4 2.7]\n",
      "0\n",
      "epochs :  4\n",
      "[1.6 2.2]\n",
      "-2\n",
      "epochs :  5\n",
      "[2.2 3.3]\n",
      "0\n",
      "epochs :  6\n",
      "[2.4 2.8]\n",
      "-2\n",
      "epochs :  7\n",
      "[2.4 2.8]\n",
      "-2\n"
     ]
    }
   ],
   "source": [
    "while any(Y-T):\n",
    "    Y = hardlim(np.matmul(W,P)+b)\n",
    "    E = T - Y\n",
    "    dW = np.matmul(E, np.transpose(P))\n",
    "    db = np.sum(E)\n",
    "    W = W+dW\n",
    "    b = b+db\n",
    "    nepoc += 1\n",
    "    print('epochs : ', nepoc)\n",
    "    print(W)\n",
    "    print(b)"
   ]
  }
 ],
 "metadata": {
  "kernelspec": {
   "display_name": "Python 3",
   "language": "python",
   "name": "python3"
  },
  "language_info": {
   "codemirror_mode": {
    "name": "ipython",
    "version": 3
   },
   "file_extension": ".py",
   "mimetype": "text/x-python",
   "name": "python",
   "nbconvert_exporter": "python",
   "pygments_lexer": "ipython3",
   "version": "3.7.5"
  }
 },
 "nbformat": 4,
 "nbformat_minor": 2
}
