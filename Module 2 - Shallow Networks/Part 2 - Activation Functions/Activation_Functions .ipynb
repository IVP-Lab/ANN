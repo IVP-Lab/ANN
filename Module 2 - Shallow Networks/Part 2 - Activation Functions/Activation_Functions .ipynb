{
  "nbformat": 4,
  "nbformat_minor": 5,
  "metadata": {
    "kernelspec": {
      "display_name": "Python 3",
      "language": "python",
      "name": "python3"
    },
    "language_info": {
      "codemirror_mode": {
        "name": "ipython",
        "version": 3
      },
      "file_extension": ".py",
      "mimetype": "text/x-python",
      "name": "python",
      "nbconvert_exporter": "python",
      "pygments_lexer": "ipython3",
      "version": "3.7.0"
    },
    "colab": {
      "name": "Activation Functions.ipynb",
      "provenance": [],
      "collapsed_sections": []
    }
  },
  "cells": [
    {
      "cell_type": "markdown",
      "metadata": {
        "id": "7c2bc475"
      },
      "source": [
        "<img src=\"https://drive.google.com/uc?id=17k_Z8gU2CUod5mNnhujcw_c7A4hMi620\" />"
      ],
      "id": "7c2bc475"
    },
    {
      "cell_type": "markdown",
      "metadata": {
        "id": "8e3f99a9"
      },
      "source": [
        "### Contents\n",
        "<ul>\n",
        "    <li><a href='#1'>Libraries & Contants</a></li>\n",
        "    <li><a href='#2'>Sigmoid</a></li>\n",
        "    <li><a href='#3'>Tanh</a></li>\n",
        "    <li><a href='#4'>Relu</a></li>\n",
        "    <li><a href='#5'>Elu</a></li>\n",
        "    <li><a href='#6'>LeakyRelu</a></li>\n",
        "    <li><a href='#7'>All-in-one</a></li>\n",
        "    \n",
        "</ul>\n",
        "<hr>\n"
      ],
      "id": "8e3f99a9"
    },
    {
      "cell_type": "markdown",
      "metadata": {
        "id": "H0nWii0krOVZ"
      },
      "source": [
        "An activation function in a neural network defines how the weighted sum of the input is transformed into an output from a node or nodes in a layer of the network.\n",
        "\n",
        "Sometimes the activation function is called a “transfer function.” If the output range of the activation function is limited, then it may be called a “squashing function.” Many activation functions are nonlinear and may be referred to as the “nonlinearity” in the layer or the network design."
      ],
      "id": "H0nWii0krOVZ"
    },
    {
      "cell_type": "markdown",
      "metadata": {
        "id": "bff2dba5"
      },
      "source": [
        "<h2><div id='1'>Libraries & Contants</div></h2>"
      ],
      "id": "bff2dba5"
    },
    {
      "cell_type": "code",
      "metadata": {
        "colab": {
          "base_uri": "https://localhost:8080/"
        },
        "id": "abe8af50",
        "outputId": "e467ca15-2c64-407d-cb38-6f04aff31d57"
      },
      "source": [
        "import torch.nn as nn\n",
        "import torch\n",
        "\n",
        "import matplotlib.pyplot as plt\n",
        "torch.manual_seed(100)"
      ],
      "id": "abe8af50",
      "execution_count": null,
      "outputs": [
        {
          "output_type": "execute_result",
          "data": {
            "text/plain": [
              "<torch._C.Generator at 0x7f893e068af0>"
            ]
          },
          "metadata": {},
          "execution_count": 11
        }
      ]
    },
    {
      "cell_type": "markdown",
      "metadata": {
        "id": "_YY-fyi3l2Oo"
      },
      "source": [
        "<div id='2'><h1>Sigmoid Function</h1></div>"
      ],
      "id": "_YY-fyi3l2Oo"
    },
    {
      "cell_type": "code",
      "metadata": {
        "id": "c1774e4f"
      },
      "source": [
        "# create some data\n",
        "z = torch.arange(-10, 10, 0.1,).view(-1, 1)"
      ],
      "id": "c1774e4f",
      "execution_count": null,
      "outputs": []
    },
    {
      "cell_type": "code",
      "metadata": {
        "colab": {
          "base_uri": "https://localhost:8080/",
          "height": 279
        },
        "id": "62324948",
        "outputId": "6eb082ce-9bf3-4c45-97b6-f664be0cca88"
      },
      "source": [
        "\n",
        "yhat = torch.sigmoid(z)\n",
        "plt.plot(z.numpy(), yhat.numpy())\n",
        "plt.plot(z.detach().numpy(),yhat.detach().numpy())\n",
        "plt.xlabel('z')\n",
        "plt.ylabel('Sigmoid(z)')\n",
        "\n",
        "plt.show()"
      ],
      "id": "62324948",
      "execution_count": null,
      "outputs": [
        {
          "output_type": "display_data",
          "data": {
            "image/png": "[encoded data removed]",
            "text/plain": [
              "<Figure size 432x288 with 1 Axes>"
            ]
          },
          "metadata": {
            "needs_background": "light"
          }
        }
      ]
    },
    {
      "cell_type": "markdown",
      "metadata": {
        "id": "pNAwz4bNnMjQ"
      },
      "source": [
        "<div id='3'><h1>Tanh Function</h1></div>"
      ],
      "id": "pNAwz4bNnMjQ"
    },
    {
      "cell_type": "code",
      "metadata": {
        "colab": {
          "base_uri": "https://localhost:8080/",
          "height": 279
        },
        "id": "29ab4575",
        "outputId": "7d107c2e-2078-47bb-8044-66ba6df719a2"
      },
      "source": [
        "\n",
        "yhat = torch.tanh(z)\n",
        "plt.plot(z.numpy(), yhat.numpy())\n",
        "plt.plot(z.detach().numpy(),yhat.detach().numpy())\n",
        "plt.xlabel('z')\n",
        "plt.ylabel('tanh(z)')\n",
        "\n",
        "plt.show()"
      ],
      "id": "29ab4575",
      "execution_count": null,
      "outputs": [
        {
          "output_type": "display_data",
          "data": {
            "image/png": "[encoded data removed]",
            "text/plain": [
              "<Figure size 432x288 with 1 Axes>"
            ]
          },
          "metadata": {
            "needs_background": "light"
          }
        }
      ]
    },
    {
      "cell_type": "markdown",
      "metadata": {
        "id": "QTLPwfhVnng2"
      },
      "source": [
        "<div id='4'><h1>Relu Function</h1></div>"
      ],
      "id": "QTLPwfhVnng2"
    },
    {
      "cell_type": "code",
      "metadata": {
        "colab": {
          "base_uri": "https://localhost:8080/",
          "height": 279
        },
        "id": "7c0bb9a3",
        "outputId": "54107744-4c09-4502-8241-de124cb7602f"
      },
      "source": [
        "yhat = torch.relu(z)\n",
        "plt.plot(z.numpy(), yhat.numpy())\n",
        "plt.plot(z.detach().numpy(),yhat.detach().numpy())\n",
        "plt.xlabel('z')\n",
        "plt.ylabel('Relu')\n",
        "\n",
        "plt.show()"
      ],
      "id": "7c0bb9a3",
      "execution_count": null,
      "outputs": [
        {
          "output_type": "display_data",
          "data": {
            "image/png": "[encoded data removed]",
            "text/plain": [
              "<Figure size 432x288 with 1 Axes>"
            ]
          },
          "metadata": {
            "needs_background": "light"
          }
        }
      ]
    },
    {
      "cell_type": "markdown",
      "metadata": {
        "id": "hmcLwEhnpOyG"
      },
      "source": [
        "<div id='5'><h1>ELU Function</h1></div>"
      ],
      "id": "hmcLwEhnpOyG"
    },
    {
      "cell_type": "code",
      "metadata": {
        "colab": {
          "base_uri": "https://localhost:8080/",
          "height": 279
        },
        "id": "JYZ2b6pLoKRB",
        "outputId": "fbec2ef0-b187-4880-a050-ffddb073124e"
      },
      "source": [
        "elu = nn.ELU()\n",
        "yhat = elu(z)\n",
        "plt.plot(z.numpy(), yhat.numpy())\n",
        "plt.plot(z.detach().numpy(),yhat.detach().numpy())\n",
        "plt.xlabel('z')\n",
        "plt.ylabel('elu')\n",
        "\n",
        "plt.show()"
      ],
      "id": "JYZ2b6pLoKRB",
      "execution_count": null,
      "outputs": [
        {
          "output_type": "display_data",
          "data": {
            "image/png": "[encoded data removed]",
            "text/plain": [
              "<Figure size 432x288 with 1 Axes>"
            ]
          },
          "metadata": {
            "needs_background": "light"
          }
        }
      ]
    },
    {
      "cell_type": "markdown",
      "metadata": {
        "id": "LEc1BSYnpRvV"
      },
      "source": [
        "<div id='6'><h1>LeakyRelu Function</h1></div>"
      ],
      "id": "LEc1BSYnpRvV"
    },
    {
      "cell_type": "code",
      "metadata": {
        "colab": {
          "base_uri": "https://localhost:8080/",
          "height": 279
        },
        "id": "LZMRX177o3Xe",
        "outputId": "b268d9cd-45b1-4fb8-cc51-68e80f8cb646"
      },
      "source": [
        "z = torch.arange(-1000, 1000, 0.1,).view(-1, 1)\n",
        "elu = nn.LeakyReLU()\n",
        "yhat = elu(z)\n",
        "plt.plot(z.numpy(), yhat.numpy())\n",
        "plt.plot(z.detach().numpy(),yhat.detach().numpy())\n",
        "plt.xlabel('z')\n",
        "plt.ylabel('LeakyRelu')\n",
        "\n",
        "plt.show()"
      ],
      "id": "LZMRX177o3Xe",
      "execution_count": null,
      "outputs": [
        {
          "output_type": "display_data",
          "data": {
            "image/png": "[encoded data removed]",
            "text/plain": [
              "<Figure size 432x288 with 1 Axes>"
            ]
          },
          "metadata": {
            "needs_background": "light"
          }
        }
      ]
    },
    {
      "cell_type": "markdown",
      "metadata": {
        "id": "eBQ2UBSOnu05"
      },
      "source": [
        "<div id='7'><h1>All in one</h1></div>"
      ],
      "id": "eBQ2UBSOnu05"
    },
    {
      "cell_type": "code",
      "metadata": {
        "colab": {
          "base_uri": "https://localhost:8080/",
          "height": 285
        },
        "id": "af4b4693",
        "outputId": "12365db2-1c3a-493c-cb75-9486414d0cb3"
      },
      "source": [
        "x = torch.arange(-2, 2, 0.1).view(-1, 1)\n",
        "plt.plot(x.numpy(), torch.relu(x).numpy(), label='relu')\n",
        "plt.plot(x.numpy(), torch.sigmoid(x).numpy(), label='sigmoid')\n",
        "plt.plot(x.numpy(), torch.tanh(x).numpy(), label='tanh')\n",
        "plt.legend()"
      ],
      "id": "af4b4693",
      "execution_count": null,
      "outputs": [
        {
          "output_type": "execute_result",
          "data": {
            "text/plain": [
              "<matplotlib.legend.Legend at 0x7f893c992f10>"
            ]
          },
          "metadata": {},
          "execution_count": 6
        },
        {
          "output_type": "display_data",
          "data": {
            "image/png": "[encoded data removed]",
            "text/plain": [
              "<Figure size 432x288 with 1 Axes>"
            ]
          },
          "metadata": {
            "needs_background": "light"
          }
        }
      ]
    },
    {
      "cell_type": "markdown",
      "metadata": {
        "id": "sNBki0gwqH-l"
      },
      "source": [
        "<hr />\n",
        "\n",
        "### About the author\n",
        "\n",
        "`Name`: Erfan Asadi\n",
        "<br />\n",
        "`Email`: erfanasadi.ce@gmail.com\n",
        "<br />\n",
        "`Linkedin`: https://www.linkedin.com/in/erfan-asadi-9b64b9163/\n",
        "<br />\n",
        "`GitHub`: https://github.com/ErfanAsadi\n",
        "<br />\n",
        "<hr />\n"
      ],
      "id": "sNBki0gwqH-l"
    },
    {
      "cell_type": "code",
      "metadata": {
        "id": "JiCtlIzKwJxK"
      },
      "source": [
        ""
      ],
      "id": "JiCtlIzKwJxK",
      "execution_count": null,
      "outputs": []
    }
  ]
}